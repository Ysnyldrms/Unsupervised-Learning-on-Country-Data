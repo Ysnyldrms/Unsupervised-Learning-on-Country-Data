{
 "cells": [
  {
   "cell_type": "code",
   "execution_count": 2,
   "id": "c468fe48",
   "metadata": {},
   "outputs": [],
   "source": [
    "import pandas as pd"
   ]
  },
  {
   "cell_type": "code",
   "execution_count": 4,
   "id": "661a9488",
   "metadata": {},
   "outputs": [
    {
     "name": "stdout",
     "output_type": "stream",
     "text": [
      " Volume in drive C has no label.\n",
      " Volume Serial Number is FAC0-9EC2\n",
      "\n",
      " Directory of C:\\Users\\User\\Documents\\AIyapayzeka\\Projects\\Kaggle\\20\\Unsupervised Learning on Country Data\n",
      "\n",
      "01.02.2023  01:47    <DIR>          .\n",
      "01.02.2023  01:46    <DIR>          ..\n",
      "01.02.2023  01:47    <DIR>          .ipynb_checkpoints\n",
      "01.02.2023  01:46             9.229 Country-data.csv\n",
      "01.02.2023  01:46               808 data-dictionary.csv\n",
      "01.02.2023  01:47                72 Untitled.ipynb\n",
      "               3 File(s)         10.109 bytes\n",
      "               3 Dir(s)  53.744.979.968 bytes free\n"
     ]
    }
   ],
   "source": [
    "ls"
   ]
  },
  {
   "cell_type": "code",
   "execution_count": 5,
   "id": "5830073b",
   "metadata": {},
   "outputs": [],
   "source": [
    "df = pd.read_csv(\"Country-data.csv\")"
   ]
  },
  {
   "cell_type": "code",
   "execution_count": 6,
   "id": "fb3632d9",
   "metadata": {},
   "outputs": [],
   "source": [
    "df2 = pd.read_csv(\"data-dictionary.csv\")"
   ]
  },
  {
   "cell_type": "code",
   "execution_count": 8,
   "id": "92f5f935",
   "metadata": {},
   "outputs": [
    {
     "data": {
      "text/html": [
       "<div>\n",
       "<style scoped>\n",
       "    .dataframe tbody tr th:only-of-type {\n",
       "        vertical-align: middle;\n",
       "    }\n",
       "\n",
       "    .dataframe tbody tr th {\n",
       "        vertical-align: top;\n",
       "    }\n",
       "\n",
       "    .dataframe thead th {\n",
       "        text-align: right;\n",
       "    }\n",
       "</style>\n",
       "<table border=\"1\" class=\"dataframe\">\n",
       "  <thead>\n",
       "    <tr style=\"text-align: right;\">\n",
       "      <th></th>\n",
       "      <th>country</th>\n",
       "      <th>child_mort</th>\n",
       "      <th>exports</th>\n",
       "      <th>health</th>\n",
       "      <th>imports</th>\n",
       "      <th>income</th>\n",
       "      <th>inflation</th>\n",
       "      <th>life_expec</th>\n",
       "      <th>total_fer</th>\n",
       "      <th>gdpp</th>\n",
       "    </tr>\n",
       "  </thead>\n",
       "  <tbody>\n",
       "    <tr>\n",
       "      <th>0</th>\n",
       "      <td>Afghanistan</td>\n",
       "      <td>90.2</td>\n",
       "      <td>10.0</td>\n",
       "      <td>7.58</td>\n",
       "      <td>44.9</td>\n",
       "      <td>1610</td>\n",
       "      <td>9.44</td>\n",
       "      <td>56.2</td>\n",
       "      <td>5.82</td>\n",
       "      <td>553</td>\n",
       "    </tr>\n",
       "    <tr>\n",
       "      <th>1</th>\n",
       "      <td>Albania</td>\n",
       "      <td>16.6</td>\n",
       "      <td>28.0</td>\n",
       "      <td>6.55</td>\n",
       "      <td>48.6</td>\n",
       "      <td>9930</td>\n",
       "      <td>4.49</td>\n",
       "      <td>76.3</td>\n",
       "      <td>1.65</td>\n",
       "      <td>4090</td>\n",
       "    </tr>\n",
       "    <tr>\n",
       "      <th>2</th>\n",
       "      <td>Algeria</td>\n",
       "      <td>27.3</td>\n",
       "      <td>38.4</td>\n",
       "      <td>4.17</td>\n",
       "      <td>31.4</td>\n",
       "      <td>12900</td>\n",
       "      <td>16.10</td>\n",
       "      <td>76.5</td>\n",
       "      <td>2.89</td>\n",
       "      <td>4460</td>\n",
       "    </tr>\n",
       "    <tr>\n",
       "      <th>3</th>\n",
       "      <td>Angola</td>\n",
       "      <td>119.0</td>\n",
       "      <td>62.3</td>\n",
       "      <td>2.85</td>\n",
       "      <td>42.9</td>\n",
       "      <td>5900</td>\n",
       "      <td>22.40</td>\n",
       "      <td>60.1</td>\n",
       "      <td>6.16</td>\n",
       "      <td>3530</td>\n",
       "    </tr>\n",
       "    <tr>\n",
       "      <th>4</th>\n",
       "      <td>Antigua and Barbuda</td>\n",
       "      <td>10.3</td>\n",
       "      <td>45.5</td>\n",
       "      <td>6.03</td>\n",
       "      <td>58.9</td>\n",
       "      <td>19100</td>\n",
       "      <td>1.44</td>\n",
       "      <td>76.8</td>\n",
       "      <td>2.13</td>\n",
       "      <td>12200</td>\n",
       "    </tr>\n",
       "    <tr>\n",
       "      <th>...</th>\n",
       "      <td>...</td>\n",
       "      <td>...</td>\n",
       "      <td>...</td>\n",
       "      <td>...</td>\n",
       "      <td>...</td>\n",
       "      <td>...</td>\n",
       "      <td>...</td>\n",
       "      <td>...</td>\n",
       "      <td>...</td>\n",
       "      <td>...</td>\n",
       "    </tr>\n",
       "    <tr>\n",
       "      <th>162</th>\n",
       "      <td>Vanuatu</td>\n",
       "      <td>29.2</td>\n",
       "      <td>46.6</td>\n",
       "      <td>5.25</td>\n",
       "      <td>52.7</td>\n",
       "      <td>2950</td>\n",
       "      <td>2.62</td>\n",
       "      <td>63.0</td>\n",
       "      <td>3.50</td>\n",
       "      <td>2970</td>\n",
       "    </tr>\n",
       "    <tr>\n",
       "      <th>163</th>\n",
       "      <td>Venezuela</td>\n",
       "      <td>17.1</td>\n",
       "      <td>28.5</td>\n",
       "      <td>4.91</td>\n",
       "      <td>17.6</td>\n",
       "      <td>16500</td>\n",
       "      <td>45.90</td>\n",
       "      <td>75.4</td>\n",
       "      <td>2.47</td>\n",
       "      <td>13500</td>\n",
       "    </tr>\n",
       "    <tr>\n",
       "      <th>164</th>\n",
       "      <td>Vietnam</td>\n",
       "      <td>23.3</td>\n",
       "      <td>72.0</td>\n",
       "      <td>6.84</td>\n",
       "      <td>80.2</td>\n",
       "      <td>4490</td>\n",
       "      <td>12.10</td>\n",
       "      <td>73.1</td>\n",
       "      <td>1.95</td>\n",
       "      <td>1310</td>\n",
       "    </tr>\n",
       "    <tr>\n",
       "      <th>165</th>\n",
       "      <td>Yemen</td>\n",
       "      <td>56.3</td>\n",
       "      <td>30.0</td>\n",
       "      <td>5.18</td>\n",
       "      <td>34.4</td>\n",
       "      <td>4480</td>\n",
       "      <td>23.60</td>\n",
       "      <td>67.5</td>\n",
       "      <td>4.67</td>\n",
       "      <td>1310</td>\n",
       "    </tr>\n",
       "    <tr>\n",
       "      <th>166</th>\n",
       "      <td>Zambia</td>\n",
       "      <td>83.1</td>\n",
       "      <td>37.0</td>\n",
       "      <td>5.89</td>\n",
       "      <td>30.9</td>\n",
       "      <td>3280</td>\n",
       "      <td>14.00</td>\n",
       "      <td>52.0</td>\n",
       "      <td>5.40</td>\n",
       "      <td>1460</td>\n",
       "    </tr>\n",
       "  </tbody>\n",
       "</table>\n",
       "<p>167 rows × 10 columns</p>\n",
       "</div>"
      ],
      "text/plain": [
       "                 country  child_mort  exports  health  imports  income  \\\n",
       "0            Afghanistan        90.2     10.0    7.58     44.9    1610   \n",
       "1                Albania        16.6     28.0    6.55     48.6    9930   \n",
       "2                Algeria        27.3     38.4    4.17     31.4   12900   \n",
       "3                 Angola       119.0     62.3    2.85     42.9    5900   \n",
       "4    Antigua and Barbuda        10.3     45.5    6.03     58.9   19100   \n",
       "..                   ...         ...      ...     ...      ...     ...   \n",
       "162              Vanuatu        29.2     46.6    5.25     52.7    2950   \n",
       "163            Venezuela        17.1     28.5    4.91     17.6   16500   \n",
       "164              Vietnam        23.3     72.0    6.84     80.2    4490   \n",
       "165                Yemen        56.3     30.0    5.18     34.4    4480   \n",
       "166               Zambia        83.1     37.0    5.89     30.9    3280   \n",
       "\n",
       "     inflation  life_expec  total_fer   gdpp  \n",
       "0         9.44        56.2       5.82    553  \n",
       "1         4.49        76.3       1.65   4090  \n",
       "2        16.10        76.5       2.89   4460  \n",
       "3        22.40        60.1       6.16   3530  \n",
       "4         1.44        76.8       2.13  12200  \n",
       "..         ...         ...        ...    ...  \n",
       "162       2.62        63.0       3.50   2970  \n",
       "163      45.90        75.4       2.47  13500  \n",
       "164      12.10        73.1       1.95   1310  \n",
       "165      23.60        67.5       4.67   1310  \n",
       "166      14.00        52.0       5.40   1460  \n",
       "\n",
       "[167 rows x 10 columns]"
      ]
     },
     "execution_count": 8,
     "metadata": {},
     "output_type": "execute_result"
    }
   ],
   "source": [
    "df"
   ]
  },
  {
   "cell_type": "code",
   "execution_count": 9,
   "id": "3344bd80",
   "metadata": {},
   "outputs": [
    {
     "data": {
      "text/html": [
       "<div>\n",
       "<style scoped>\n",
       "    .dataframe tbody tr th:only-of-type {\n",
       "        vertical-align: middle;\n",
       "    }\n",
       "\n",
       "    .dataframe tbody tr th {\n",
       "        vertical-align: top;\n",
       "    }\n",
       "\n",
       "    .dataframe thead th {\n",
       "        text-align: right;\n",
       "    }\n",
       "</style>\n",
       "<table border=\"1\" class=\"dataframe\">\n",
       "  <thead>\n",
       "    <tr style=\"text-align: right;\">\n",
       "      <th></th>\n",
       "      <th>Column Name</th>\n",
       "      <th>Description</th>\n",
       "    </tr>\n",
       "  </thead>\n",
       "  <tbody>\n",
       "    <tr>\n",
       "      <th>0</th>\n",
       "      <td>country</td>\n",
       "      <td>Name of the country</td>\n",
       "    </tr>\n",
       "    <tr>\n",
       "      <th>1</th>\n",
       "      <td>child_mort</td>\n",
       "      <td>Death of children under 5 years of age per 100...</td>\n",
       "    </tr>\n",
       "    <tr>\n",
       "      <th>2</th>\n",
       "      <td>exports</td>\n",
       "      <td>Exports of goods and services per capita. Give...</td>\n",
       "    </tr>\n",
       "    <tr>\n",
       "      <th>3</th>\n",
       "      <td>health</td>\n",
       "      <td>Total health spending per capita. Given as %ag...</td>\n",
       "    </tr>\n",
       "    <tr>\n",
       "      <th>4</th>\n",
       "      <td>imports</td>\n",
       "      <td>Imports of goods and services per capita. Give...</td>\n",
       "    </tr>\n",
       "    <tr>\n",
       "      <th>5</th>\n",
       "      <td>Income</td>\n",
       "      <td>Net income per person</td>\n",
       "    </tr>\n",
       "    <tr>\n",
       "      <th>6</th>\n",
       "      <td>Inflation</td>\n",
       "      <td>The measurement of the annual growth rate of t...</td>\n",
       "    </tr>\n",
       "    <tr>\n",
       "      <th>7</th>\n",
       "      <td>life_expec</td>\n",
       "      <td>The average number of years a new born child w...</td>\n",
       "    </tr>\n",
       "    <tr>\n",
       "      <th>8</th>\n",
       "      <td>total_fer</td>\n",
       "      <td>The number of children that would be born to e...</td>\n",
       "    </tr>\n",
       "    <tr>\n",
       "      <th>9</th>\n",
       "      <td>gdpp</td>\n",
       "      <td>The GDP per capita. Calculated as the Total GD...</td>\n",
       "    </tr>\n",
       "  </tbody>\n",
       "</table>\n",
       "</div>"
      ],
      "text/plain": [
       "  Column Name                                        Description\n",
       "0     country                                Name of the country\n",
       "1  child_mort  Death of children under 5 years of age per 100...\n",
       "2     exports  Exports of goods and services per capita. Give...\n",
       "3      health  Total health spending per capita. Given as %ag...\n",
       "4     imports  Imports of goods and services per capita. Give...\n",
       "5      Income                              Net income per person\n",
       "6   Inflation  The measurement of the annual growth rate of t...\n",
       "7  life_expec  The average number of years a new born child w...\n",
       "8   total_fer  The number of children that would be born to e...\n",
       "9        gdpp  The GDP per capita. Calculated as the Total GD..."
      ]
     },
     "execution_count": 9,
     "metadata": {},
     "output_type": "execute_result"
    }
   ],
   "source": [
    "df2"
   ]
  },
  {
   "cell_type": "code",
   "execution_count": 10,
   "id": "22f1d345",
   "metadata": {},
   "outputs": [
    {
     "data": {
      "text/html": [
       "<style type=\"text/css\">\n",
       "#T_6bf7b_row21_col1 {\n",
       "  background-color: lightgreen;\n",
       "}\n",
       "</style>\n",
       "<table id=\"T_6bf7b\">\n",
       "  <thead>\n",
       "    <tr>\n",
       "      <th class=\"blank level0\" >&nbsp;</th>\n",
       "      <th id=\"T_6bf7b_level0_col0\" class=\"col_heading level0 col0\" >Description</th>\n",
       "      <th id=\"T_6bf7b_level0_col1\" class=\"col_heading level0 col1\" >Value</th>\n",
       "    </tr>\n",
       "  </thead>\n",
       "  <tbody>\n",
       "    <tr>\n",
       "      <th id=\"T_6bf7b_level0_row0\" class=\"row_heading level0 row0\" >0</th>\n",
       "      <td id=\"T_6bf7b_row0_col0\" class=\"data row0 col0\" >session_id</td>\n",
       "      <td id=\"T_6bf7b_row0_col1\" class=\"data row0 col1\" >4945</td>\n",
       "    </tr>\n",
       "    <tr>\n",
       "      <th id=\"T_6bf7b_level0_row1\" class=\"row_heading level0 row1\" >1</th>\n",
       "      <td id=\"T_6bf7b_row1_col0\" class=\"data row1 col0\" >Original Data</td>\n",
       "      <td id=\"T_6bf7b_row1_col1\" class=\"data row1 col1\" >(167, 10)</td>\n",
       "    </tr>\n",
       "    <tr>\n",
       "      <th id=\"T_6bf7b_level0_row2\" class=\"row_heading level0 row2\" >2</th>\n",
       "      <td id=\"T_6bf7b_row2_col0\" class=\"data row2 col0\" >Missing Values</td>\n",
       "      <td id=\"T_6bf7b_row2_col1\" class=\"data row2 col1\" >False</td>\n",
       "    </tr>\n",
       "    <tr>\n",
       "      <th id=\"T_6bf7b_level0_row3\" class=\"row_heading level0 row3\" >3</th>\n",
       "      <td id=\"T_6bf7b_row3_col0\" class=\"data row3 col0\" >Numeric Features</td>\n",
       "      <td id=\"T_6bf7b_row3_col1\" class=\"data row3 col1\" >9</td>\n",
       "    </tr>\n",
       "    <tr>\n",
       "      <th id=\"T_6bf7b_level0_row4\" class=\"row_heading level0 row4\" >4</th>\n",
       "      <td id=\"T_6bf7b_row4_col0\" class=\"data row4 col0\" >Categorical Features</td>\n",
       "      <td id=\"T_6bf7b_row4_col1\" class=\"data row4 col1\" >1</td>\n",
       "    </tr>\n",
       "    <tr>\n",
       "      <th id=\"T_6bf7b_level0_row5\" class=\"row_heading level0 row5\" >5</th>\n",
       "      <td id=\"T_6bf7b_row5_col0\" class=\"data row5 col0\" >Ordinal Features</td>\n",
       "      <td id=\"T_6bf7b_row5_col1\" class=\"data row5 col1\" >False</td>\n",
       "    </tr>\n",
       "    <tr>\n",
       "      <th id=\"T_6bf7b_level0_row6\" class=\"row_heading level0 row6\" >6</th>\n",
       "      <td id=\"T_6bf7b_row6_col0\" class=\"data row6 col0\" >High Cardinality Features</td>\n",
       "      <td id=\"T_6bf7b_row6_col1\" class=\"data row6 col1\" >False</td>\n",
       "    </tr>\n",
       "    <tr>\n",
       "      <th id=\"T_6bf7b_level0_row7\" class=\"row_heading level0 row7\" >7</th>\n",
       "      <td id=\"T_6bf7b_row7_col0\" class=\"data row7 col0\" >High Cardinality Method</td>\n",
       "      <td id=\"T_6bf7b_row7_col1\" class=\"data row7 col1\" >None</td>\n",
       "    </tr>\n",
       "    <tr>\n",
       "      <th id=\"T_6bf7b_level0_row8\" class=\"row_heading level0 row8\" >8</th>\n",
       "      <td id=\"T_6bf7b_row8_col0\" class=\"data row8 col0\" >Transformed Data</td>\n",
       "      <td id=\"T_6bf7b_row8_col1\" class=\"data row8 col1\" >(167, 176)</td>\n",
       "    </tr>\n",
       "    <tr>\n",
       "      <th id=\"T_6bf7b_level0_row9\" class=\"row_heading level0 row9\" >9</th>\n",
       "      <td id=\"T_6bf7b_row9_col0\" class=\"data row9 col0\" >CPU Jobs</td>\n",
       "      <td id=\"T_6bf7b_row9_col1\" class=\"data row9 col1\" >-1</td>\n",
       "    </tr>\n",
       "    <tr>\n",
       "      <th id=\"T_6bf7b_level0_row10\" class=\"row_heading level0 row10\" >10</th>\n",
       "      <td id=\"T_6bf7b_row10_col0\" class=\"data row10 col0\" >Use GPU</td>\n",
       "      <td id=\"T_6bf7b_row10_col1\" class=\"data row10 col1\" >False</td>\n",
       "    </tr>\n",
       "    <tr>\n",
       "      <th id=\"T_6bf7b_level0_row11\" class=\"row_heading level0 row11\" >11</th>\n",
       "      <td id=\"T_6bf7b_row11_col0\" class=\"data row11 col0\" >Log Experiment</td>\n",
       "      <td id=\"T_6bf7b_row11_col1\" class=\"data row11 col1\" >False</td>\n",
       "    </tr>\n",
       "    <tr>\n",
       "      <th id=\"T_6bf7b_level0_row12\" class=\"row_heading level0 row12\" >12</th>\n",
       "      <td id=\"T_6bf7b_row12_col0\" class=\"data row12 col0\" >Experiment Name</td>\n",
       "      <td id=\"T_6bf7b_row12_col1\" class=\"data row12 col1\" >cluster-default-name</td>\n",
       "    </tr>\n",
       "    <tr>\n",
       "      <th id=\"T_6bf7b_level0_row13\" class=\"row_heading level0 row13\" >13</th>\n",
       "      <td id=\"T_6bf7b_row13_col0\" class=\"data row13 col0\" >USI</td>\n",
       "      <td id=\"T_6bf7b_row13_col1\" class=\"data row13 col1\" >4871</td>\n",
       "    </tr>\n",
       "    <tr>\n",
       "      <th id=\"T_6bf7b_level0_row14\" class=\"row_heading level0 row14\" >14</th>\n",
       "      <td id=\"T_6bf7b_row14_col0\" class=\"data row14 col0\" >Imputation Type</td>\n",
       "      <td id=\"T_6bf7b_row14_col1\" class=\"data row14 col1\" >simple</td>\n",
       "    </tr>\n",
       "    <tr>\n",
       "      <th id=\"T_6bf7b_level0_row15\" class=\"row_heading level0 row15\" >15</th>\n",
       "      <td id=\"T_6bf7b_row15_col0\" class=\"data row15 col0\" >Iterative Imputation Iteration</td>\n",
       "      <td id=\"T_6bf7b_row15_col1\" class=\"data row15 col1\" >None</td>\n",
       "    </tr>\n",
       "    <tr>\n",
       "      <th id=\"T_6bf7b_level0_row16\" class=\"row_heading level0 row16\" >16</th>\n",
       "      <td id=\"T_6bf7b_row16_col0\" class=\"data row16 col0\" >Numeric Imputer</td>\n",
       "      <td id=\"T_6bf7b_row16_col1\" class=\"data row16 col1\" >mean</td>\n",
       "    </tr>\n",
       "    <tr>\n",
       "      <th id=\"T_6bf7b_level0_row17\" class=\"row_heading level0 row17\" >17</th>\n",
       "      <td id=\"T_6bf7b_row17_col0\" class=\"data row17 col0\" >Iterative Imputation Numeric Model</td>\n",
       "      <td id=\"T_6bf7b_row17_col1\" class=\"data row17 col1\" >None</td>\n",
       "    </tr>\n",
       "    <tr>\n",
       "      <th id=\"T_6bf7b_level0_row18\" class=\"row_heading level0 row18\" >18</th>\n",
       "      <td id=\"T_6bf7b_row18_col0\" class=\"data row18 col0\" >Categorical Imputer</td>\n",
       "      <td id=\"T_6bf7b_row18_col1\" class=\"data row18 col1\" >mode</td>\n",
       "    </tr>\n",
       "    <tr>\n",
       "      <th id=\"T_6bf7b_level0_row19\" class=\"row_heading level0 row19\" >19</th>\n",
       "      <td id=\"T_6bf7b_row19_col0\" class=\"data row19 col0\" >Iterative Imputation Categorical Model</td>\n",
       "      <td id=\"T_6bf7b_row19_col1\" class=\"data row19 col1\" >None</td>\n",
       "    </tr>\n",
       "    <tr>\n",
       "      <th id=\"T_6bf7b_level0_row20\" class=\"row_heading level0 row20\" >20</th>\n",
       "      <td id=\"T_6bf7b_row20_col0\" class=\"data row20 col0\" >Unknown Categoricals Handling</td>\n",
       "      <td id=\"T_6bf7b_row20_col1\" class=\"data row20 col1\" >least_frequent</td>\n",
       "    </tr>\n",
       "    <tr>\n",
       "      <th id=\"T_6bf7b_level0_row21\" class=\"row_heading level0 row21\" >21</th>\n",
       "      <td id=\"T_6bf7b_row21_col0\" class=\"data row21 col0\" >Normalize</td>\n",
       "      <td id=\"T_6bf7b_row21_col1\" class=\"data row21 col1\" >True</td>\n",
       "    </tr>\n",
       "    <tr>\n",
       "      <th id=\"T_6bf7b_level0_row22\" class=\"row_heading level0 row22\" >22</th>\n",
       "      <td id=\"T_6bf7b_row22_col0\" class=\"data row22 col0\" >Normalize Method</td>\n",
       "      <td id=\"T_6bf7b_row22_col1\" class=\"data row22 col1\" >zscore</td>\n",
       "    </tr>\n",
       "    <tr>\n",
       "      <th id=\"T_6bf7b_level0_row23\" class=\"row_heading level0 row23\" >23</th>\n",
       "      <td id=\"T_6bf7b_row23_col0\" class=\"data row23 col0\" >Transformation</td>\n",
       "      <td id=\"T_6bf7b_row23_col1\" class=\"data row23 col1\" >False</td>\n",
       "    </tr>\n",
       "    <tr>\n",
       "      <th id=\"T_6bf7b_level0_row24\" class=\"row_heading level0 row24\" >24</th>\n",
       "      <td id=\"T_6bf7b_row24_col0\" class=\"data row24 col0\" >Transformation Method</td>\n",
       "      <td id=\"T_6bf7b_row24_col1\" class=\"data row24 col1\" >None</td>\n",
       "    </tr>\n",
       "    <tr>\n",
       "      <th id=\"T_6bf7b_level0_row25\" class=\"row_heading level0 row25\" >25</th>\n",
       "      <td id=\"T_6bf7b_row25_col0\" class=\"data row25 col0\" >PCA</td>\n",
       "      <td id=\"T_6bf7b_row25_col1\" class=\"data row25 col1\" >False</td>\n",
       "    </tr>\n",
       "    <tr>\n",
       "      <th id=\"T_6bf7b_level0_row26\" class=\"row_heading level0 row26\" >26</th>\n",
       "      <td id=\"T_6bf7b_row26_col0\" class=\"data row26 col0\" >PCA Method</td>\n",
       "      <td id=\"T_6bf7b_row26_col1\" class=\"data row26 col1\" >None</td>\n",
       "    </tr>\n",
       "    <tr>\n",
       "      <th id=\"T_6bf7b_level0_row27\" class=\"row_heading level0 row27\" >27</th>\n",
       "      <td id=\"T_6bf7b_row27_col0\" class=\"data row27 col0\" >PCA Components</td>\n",
       "      <td id=\"T_6bf7b_row27_col1\" class=\"data row27 col1\" >None</td>\n",
       "    </tr>\n",
       "    <tr>\n",
       "      <th id=\"T_6bf7b_level0_row28\" class=\"row_heading level0 row28\" >28</th>\n",
       "      <td id=\"T_6bf7b_row28_col0\" class=\"data row28 col0\" >Ignore Low Variance</td>\n",
       "      <td id=\"T_6bf7b_row28_col1\" class=\"data row28 col1\" >False</td>\n",
       "    </tr>\n",
       "    <tr>\n",
       "      <th id=\"T_6bf7b_level0_row29\" class=\"row_heading level0 row29\" >29</th>\n",
       "      <td id=\"T_6bf7b_row29_col0\" class=\"data row29 col0\" >Combine Rare Levels</td>\n",
       "      <td id=\"T_6bf7b_row29_col1\" class=\"data row29 col1\" >False</td>\n",
       "    </tr>\n",
       "    <tr>\n",
       "      <th id=\"T_6bf7b_level0_row30\" class=\"row_heading level0 row30\" >30</th>\n",
       "      <td id=\"T_6bf7b_row30_col0\" class=\"data row30 col0\" >Rare Level Threshold</td>\n",
       "      <td id=\"T_6bf7b_row30_col1\" class=\"data row30 col1\" >None</td>\n",
       "    </tr>\n",
       "    <tr>\n",
       "      <th id=\"T_6bf7b_level0_row31\" class=\"row_heading level0 row31\" >31</th>\n",
       "      <td id=\"T_6bf7b_row31_col0\" class=\"data row31 col0\" >Numeric Binning</td>\n",
       "      <td id=\"T_6bf7b_row31_col1\" class=\"data row31 col1\" >False</td>\n",
       "    </tr>\n",
       "    <tr>\n",
       "      <th id=\"T_6bf7b_level0_row32\" class=\"row_heading level0 row32\" >32</th>\n",
       "      <td id=\"T_6bf7b_row32_col0\" class=\"data row32 col0\" >Remove Outliers</td>\n",
       "      <td id=\"T_6bf7b_row32_col1\" class=\"data row32 col1\" >False</td>\n",
       "    </tr>\n",
       "    <tr>\n",
       "      <th id=\"T_6bf7b_level0_row33\" class=\"row_heading level0 row33\" >33</th>\n",
       "      <td id=\"T_6bf7b_row33_col0\" class=\"data row33 col0\" >Outliers Threshold</td>\n",
       "      <td id=\"T_6bf7b_row33_col1\" class=\"data row33 col1\" >None</td>\n",
       "    </tr>\n",
       "    <tr>\n",
       "      <th id=\"T_6bf7b_level0_row34\" class=\"row_heading level0 row34\" >34</th>\n",
       "      <td id=\"T_6bf7b_row34_col0\" class=\"data row34 col0\" >Remove Multicollinearity</td>\n",
       "      <td id=\"T_6bf7b_row34_col1\" class=\"data row34 col1\" >False</td>\n",
       "    </tr>\n",
       "    <tr>\n",
       "      <th id=\"T_6bf7b_level0_row35\" class=\"row_heading level0 row35\" >35</th>\n",
       "      <td id=\"T_6bf7b_row35_col0\" class=\"data row35 col0\" >Multicollinearity Threshold</td>\n",
       "      <td id=\"T_6bf7b_row35_col1\" class=\"data row35 col1\" >None</td>\n",
       "    </tr>\n",
       "    <tr>\n",
       "      <th id=\"T_6bf7b_level0_row36\" class=\"row_heading level0 row36\" >36</th>\n",
       "      <td id=\"T_6bf7b_row36_col0\" class=\"data row36 col0\" >Remove Perfect Collinearity</td>\n",
       "      <td id=\"T_6bf7b_row36_col1\" class=\"data row36 col1\" >False</td>\n",
       "    </tr>\n",
       "    <tr>\n",
       "      <th id=\"T_6bf7b_level0_row37\" class=\"row_heading level0 row37\" >37</th>\n",
       "      <td id=\"T_6bf7b_row37_col0\" class=\"data row37 col0\" >Clustering</td>\n",
       "      <td id=\"T_6bf7b_row37_col1\" class=\"data row37 col1\" >False</td>\n",
       "    </tr>\n",
       "    <tr>\n",
       "      <th id=\"T_6bf7b_level0_row38\" class=\"row_heading level0 row38\" >38</th>\n",
       "      <td id=\"T_6bf7b_row38_col0\" class=\"data row38 col0\" >Clustering Iteration</td>\n",
       "      <td id=\"T_6bf7b_row38_col1\" class=\"data row38 col1\" >None</td>\n",
       "    </tr>\n",
       "    <tr>\n",
       "      <th id=\"T_6bf7b_level0_row39\" class=\"row_heading level0 row39\" >39</th>\n",
       "      <td id=\"T_6bf7b_row39_col0\" class=\"data row39 col0\" >Polynomial Features</td>\n",
       "      <td id=\"T_6bf7b_row39_col1\" class=\"data row39 col1\" >False</td>\n",
       "    </tr>\n",
       "    <tr>\n",
       "      <th id=\"T_6bf7b_level0_row40\" class=\"row_heading level0 row40\" >40</th>\n",
       "      <td id=\"T_6bf7b_row40_col0\" class=\"data row40 col0\" >Polynomial Degree</td>\n",
       "      <td id=\"T_6bf7b_row40_col1\" class=\"data row40 col1\" >None</td>\n",
       "    </tr>\n",
       "    <tr>\n",
       "      <th id=\"T_6bf7b_level0_row41\" class=\"row_heading level0 row41\" >41</th>\n",
       "      <td id=\"T_6bf7b_row41_col0\" class=\"data row41 col0\" >Trignometry Features</td>\n",
       "      <td id=\"T_6bf7b_row41_col1\" class=\"data row41 col1\" >False</td>\n",
       "    </tr>\n",
       "    <tr>\n",
       "      <th id=\"T_6bf7b_level0_row42\" class=\"row_heading level0 row42\" >42</th>\n",
       "      <td id=\"T_6bf7b_row42_col0\" class=\"data row42 col0\" >Polynomial Threshold</td>\n",
       "      <td id=\"T_6bf7b_row42_col1\" class=\"data row42 col1\" >None</td>\n",
       "    </tr>\n",
       "    <tr>\n",
       "      <th id=\"T_6bf7b_level0_row43\" class=\"row_heading level0 row43\" >43</th>\n",
       "      <td id=\"T_6bf7b_row43_col0\" class=\"data row43 col0\" >Group Features</td>\n",
       "      <td id=\"T_6bf7b_row43_col1\" class=\"data row43 col1\" >False</td>\n",
       "    </tr>\n",
       "    <tr>\n",
       "      <th id=\"T_6bf7b_level0_row44\" class=\"row_heading level0 row44\" >44</th>\n",
       "      <td id=\"T_6bf7b_row44_col0\" class=\"data row44 col0\" >Feature Selection</td>\n",
       "      <td id=\"T_6bf7b_row44_col1\" class=\"data row44 col1\" >False</td>\n",
       "    </tr>\n",
       "    <tr>\n",
       "      <th id=\"T_6bf7b_level0_row45\" class=\"row_heading level0 row45\" >45</th>\n",
       "      <td id=\"T_6bf7b_row45_col0\" class=\"data row45 col0\" >Feature Selection Method</td>\n",
       "      <td id=\"T_6bf7b_row45_col1\" class=\"data row45 col1\" >classic</td>\n",
       "    </tr>\n",
       "    <tr>\n",
       "      <th id=\"T_6bf7b_level0_row46\" class=\"row_heading level0 row46\" >46</th>\n",
       "      <td id=\"T_6bf7b_row46_col0\" class=\"data row46 col0\" >Features Selection Threshold</td>\n",
       "      <td id=\"T_6bf7b_row46_col1\" class=\"data row46 col1\" >None</td>\n",
       "    </tr>\n",
       "    <tr>\n",
       "      <th id=\"T_6bf7b_level0_row47\" class=\"row_heading level0 row47\" >47</th>\n",
       "      <td id=\"T_6bf7b_row47_col0\" class=\"data row47 col0\" >Feature Interaction</td>\n",
       "      <td id=\"T_6bf7b_row47_col1\" class=\"data row47 col1\" >False</td>\n",
       "    </tr>\n",
       "    <tr>\n",
       "      <th id=\"T_6bf7b_level0_row48\" class=\"row_heading level0 row48\" >48</th>\n",
       "      <td id=\"T_6bf7b_row48_col0\" class=\"data row48 col0\" >Feature Ratio</td>\n",
       "      <td id=\"T_6bf7b_row48_col1\" class=\"data row48 col1\" >False</td>\n",
       "    </tr>\n",
       "    <tr>\n",
       "      <th id=\"T_6bf7b_level0_row49\" class=\"row_heading level0 row49\" >49</th>\n",
       "      <td id=\"T_6bf7b_row49_col0\" class=\"data row49 col0\" >Interaction Threshold</td>\n",
       "      <td id=\"T_6bf7b_row49_col1\" class=\"data row49 col1\" >None</td>\n",
       "    </tr>\n",
       "  </tbody>\n",
       "</table>\n"
      ],
      "text/plain": [
       "<pandas.io.formats.style.Styler at 0x1e21d321f10>"
      ]
     },
     "metadata": {},
     "output_type": "display_data"
    }
   ],
   "source": [
    "from pycaret.clustering import *\n",
    "s = setup(df, normalize = True)"
   ]
  },
  {
   "cell_type": "code",
   "execution_count": 11,
   "id": "56ae4ac0",
   "metadata": {},
   "outputs": [
    {
     "data": {
      "text/html": [
       "<div>\n",
       "<style scoped>\n",
       "    .dataframe tbody tr th:only-of-type {\n",
       "        vertical-align: middle;\n",
       "    }\n",
       "\n",
       "    .dataframe tbody tr th {\n",
       "        vertical-align: top;\n",
       "    }\n",
       "\n",
       "    .dataframe thead th {\n",
       "        text-align: right;\n",
       "    }\n",
       "</style>\n",
       "<table border=\"1\" class=\"dataframe\">\n",
       "  <thead>\n",
       "    <tr style=\"text-align: right;\">\n",
       "      <th></th>\n",
       "      <th>Silhouette</th>\n",
       "      <th>Calinski-Harabasz</th>\n",
       "      <th>Davies-Bouldin</th>\n",
       "      <th>Homogeneity</th>\n",
       "      <th>Rand Index</th>\n",
       "      <th>Completeness</th>\n",
       "    </tr>\n",
       "  </thead>\n",
       "  <tbody>\n",
       "    <tr>\n",
       "      <th>0</th>\n",
       "      <td>0.2517</td>\n",
       "      <td>50.6835</td>\n",
       "      <td>1.1906</td>\n",
       "      <td>0</td>\n",
       "      <td>0</td>\n",
       "      <td>0</td>\n",
       "    </tr>\n",
       "  </tbody>\n",
       "</table>\n",
       "</div>"
      ],
      "text/plain": [
       "   Silhouette  Calinski-Harabasz  Davies-Bouldin  Homogeneity  Rand Index  \\\n",
       "0      0.2517            50.6835          1.1906            0           0   \n",
       "\n",
       "   Completeness  \n",
       "0             0  "
      ]
     },
     "metadata": {},
     "output_type": "display_data"
    }
   ],
   "source": [
    "kmeans = create_model('kmeans')"
   ]
  },
  {
   "cell_type": "code",
   "execution_count": 12,
   "id": "a48eafcb",
   "metadata": {},
   "outputs": [
    {
     "data": {
      "application/vnd.jupyter.widget-view+json": {
       "model_id": "233993e18ad0458b840456b914a574c2",
       "version_major": 2,
       "version_minor": 0
      },
      "text/plain": [
       "interactive(children=(ToggleButtons(description='Plot Type:', icons=('',), options=(('Cluster PCA Plot (2d)', …"
      ]
     },
     "metadata": {},
     "output_type": "display_data"
    }
   ],
   "source": [
    "evaluate_model(kmeans)"
   ]
  },
  {
   "cell_type": "code",
   "execution_count": 22,
   "id": "d73b6618",
   "metadata": {},
   "outputs": [
    {
     "data": {
      "application/vnd.plotly.v1+json": {
       "config": {
        "plotlyServerURL": "https://plot.ly"
       },
       "data": [
        {
         "customdata": [
          [
           "Kyrgyz Republic"
          ],
          [
           "Indonesia"
          ],
          [
           "India"
          ],
          [
           "Russia"
          ],
          [
           "Hungary"
          ],
          [
           "Guyana"
          ],
          [
           "Samoa"
          ],
          [
           "Saudi Arabia"
          ],
          [
           "Guatemala"
          ],
          [
           "Grenada"
          ],
          [
           "Serbia"
          ],
          [
           "Seychelles"
          ],
          [
           "Georgia"
          ],
          [
           "Slovak Republic"
          ],
          [
           "Solomon Islands"
          ],
          [
           "Fiji"
          ],
          [
           "Estonia"
          ],
          [
           "Mauritius"
          ],
          [
           "Sri Lanka"
          ],
          [
           "El Salvador"
          ],
          [
           "Iran"
          ],
          [
           "Romania"
          ],
          [
           "Poland"
          ],
          [
           "Philippines"
          ],
          [
           "Moldova"
          ],
          [
           "Mongolia"
          ],
          [
           "Montenegro"
          ],
          [
           "Maldives"
          ],
          [
           "Malaysia"
          ],
          [
           "Morocco"
          ],
          [
           "Macedonia, FYR"
          ],
          [
           "Myanmar"
          ],
          [
           "Lithuania"
          ],
          [
           "Egypt"
          ],
          [
           "Libya"
          ],
          [
           "Lebanon"
          ],
          [
           "Latvia"
          ],
          [
           "Oman"
          ],
          [
           "Panama"
          ],
          [
           "Kazakhstan"
          ],
          [
           "Jordan"
          ],
          [
           "Paraguay"
          ],
          [
           "Jamaica"
          ],
          [
           "Peru"
          ],
          [
           "Nepal"
          ],
          [
           "Ecuador"
          ],
          [
           "South Korea"
          ],
          [
           "St. Vincent and the Grenadines"
          ],
          [
           "Dominican Republic"
          ],
          [
           "Bosnia and Herzegovina"
          ],
          [
           "Bolivia"
          ],
          [
           "Bhutan"
          ],
          [
           "Uruguay"
          ],
          [
           "Belize"
          ],
          [
           "Uzbekistan"
          ],
          [
           "Belarus"
          ],
          [
           "Barbados"
          ],
          [
           "Bangladesh"
          ],
          [
           "Bahrain"
          ],
          [
           "Bahamas"
          ],
          [
           "Azerbaijan"
          ],
          [
           "Vanuatu"
          ],
          [
           "Venezuela"
          ],
          [
           "Armenia"
          ],
          [
           "Argentina"
          ],
          [
           "Antigua and Barbuda"
          ],
          [
           "Vietnam"
          ],
          [
           "Algeria"
          ],
          [
           "Albania"
          ],
          [
           "Brazil"
          ],
          [
           "Bulgaria"
          ],
          [
           "Ukraine"
          ],
          [
           "China"
          ],
          [
           "Czech Republic"
          ],
          [
           "Croatia"
          ],
          [
           "Suriname"
          ],
          [
           "Costa Rica"
          ],
          [
           "Tajikistan"
          ],
          [
           "Thailand"
          ],
          [
           "Colombia"
          ],
          [
           "Turkmenistan"
          ],
          [
           "Chile"
          ],
          [
           "Micronesia, Fed. Sts."
          ],
          [
           "Tonga"
          ],
          [
           "Turkey"
          ],
          [
           "Cambodia"
          ],
          [
           "Tunisia"
          ],
          [
           "Cape Verde"
          ]
         ],
         "hovertemplate": "Cluster=Cluster 0<br>PCA1=%{x}<br>PCA2=%{y}<br>Feature=%{customdata[0]}<extra></extra>",
         "legendgroup": "Cluster 0",
         "marker": {
          "color": "#636efa",
          "opacity": 0.5,
          "symbol": "circle"
         },
         "mode": "markers",
         "name": "Cluster 0",
         "orientation": "v",
         "showlegend": true,
         "textposition": "top center",
         "type": "scatter",
         "x": [
          -0.3402157723903656,
          -0.9554415941238403,
          -1.3438009023666382,
          0.1638762205839157,
          1.8404886722564697,
          -0.3230145573616028,
          -0.5633055567741394,
          0.8565517663955688,
          -0.6639832854270935,
          0.14560991525650024,
          0.8330190181732178,
          1.6037551164627075,
          0.32217511534690857,
          2.0311896800994873,
          -0.8067915439605713,
          -0.18896470963954926,
          1.6602810621261597,
          0.9004231095314026,
          -0.5759925842285156,
          0.08192657679319382,
          -0.0010660538682714105,
          0.5732033848762512,
          1.2187055349349976,
          -0.7833126783370972,
          0.5099082589149475,
          -0.9456601142883301,
          1.027423620223999,
          1.1094005107879639,
          1.2317160367965698,
          -0.23303891718387604,
          0.7337374687194824,
          -1.8385310173034668,
          1.410805106163025,
          -0.8488010764122009,
          0.8195323944091797,
          1.1728355884552002,
          1.1896969079971313,
          1.1281989812850952,
          1.1646239757537842,
          -0.2935590147972107,
          0.16025884449481964,
          0.11793126910924911,
          0.018622085452079773,
          -0.020651068538427353,
          -1.3080358505249023,
          0.009624801576137543,
          1.9194471836090088,
          0.026642348617315292,
          -0.2312709242105484,
          0.9965847134590149,
          -0.7944262027740479,
          -0.1566844880580902,
          0.6177588105201721,
          0.21140845119953156,
          -0.8541467189788818,
          0.5804542899131775,
          1.0821658372879028,
          -1.1246646642684937,
          1.6722023487091064,
          1.269659161567688,
          -0.18161851167678833,
          -0.8212247490882874,
          -0.5514350533485413,
          -0.10165777057409286,
          0.022423002868890762,
          1.0343207120895386,
          0.4988856613636017,
          -0.28543218970298767,
          0.43021726608276367,
          0.14088238775730133,
          0.9072474241256714,
          0.3025183379650116,
          0.05752251669764519,
          2.054746627807617,
          1.149703860282898,
          0.17179910838603973,
          0.9385017156600952,
          -1.2453646659851074,
          0.9267593026161194,
          0.12123320996761322,
          -0.46427121758461,
          0.9523410201072693,
          -0.3812030255794525,
          -0.7555549144744873,
          0.40172436833381653,
          -0.5828362107276917,
          0.6026671528816223,
          -0.1559142768383026
         ],
         "xaxis": "x",
         "y": [
          1.30070960521698,
          -0.7337765097618103,
          -0.5361716151237488,
          -1.0687402486801147,
          1.2754281759262085,
          1.363976001739502,
          -0.022145623341202736,
          -0.183795765042305,
          -0.6150972247123718,
          -0.4321691393852234,
          -0.8710060119628906,
          2.9448089599609375,
          -0.5192562937736511,
          1.052439570426941,
          1.3060126304626465,
          1.0738394260406494,
          1.0235412120819092,
          0.41728782653808594,
          -0.9994792342185974,
          -0.5689007043838501,
          -1.3369293212890625,
          -0.6386160254478455,
          -0.6604432463645935,
          -0.09668295085430145,
          0.16197223961353302,
          0.5308261513710022,
          -0.25813835859298706,
          1.0112684965133667,
          1.6048486232757568,
          -0.2815696895122528,
          -0.0950489342212677,
          -1.6167875528335571,
          0.7312461733818054,
          -0.821402907371521,
          0.3905966579914093,
          -0.25678887963294983,
          0.16235525906085968,
          0.4925627112388611,
          1.117434024810791,
          -0.23798415064811707,
          0.5421123504638672,
          0.3617311716079712,
          -0.23942166566848755,
          -1.0887175798416138,
          -0.7905728816986084,
          -1.0472415685653687,
          -0.428294837474823,
          -0.01609330251812935,
          -0.8823439478874207,
          -0.9737666249275208,
          -0.12049216032028198,
          0.7789012789726257,
          -1.4332438707351685,
          0.7005972266197205,
          -0.6557489633560181,
          0.536361813545227,
          -0.48290276527404785,
          -0.9632545709609985,
          0.5622480511665344,
          -0.657858669757843,
          -0.4036444425582886,
          0.6408087015151978,
          -1.2362728118896484,
          -0.5693491101264954,
          -1.7826300859451294,
          0.13692282140254974,
          1.3934367895126343,
          -0.4560551643371582,
          -0.5892889499664307,
          -2.155238151550293,
          0.030338086187839508,
          -0.0977577194571495,
          -1.1922961473464966,
          0.4240175187587738,
          -0.8464474678039551,
          -0.09499052911996841,
          -1.353083610534668,
          -0.028972089290618896,
          0.8298352360725403,
          -1.7723299264907837,
          1.2943735122680664,
          -1.07850980758667,
          0.10197065770626068,
          -0.0880618691444397,
          -1.4147194623947144,
          0.8965532183647156,
          0.17377272248268127,
          0.3519178330898285
         ],
         "yaxis": "y"
        },
        {
         "customdata": [
          [
           "Sudan"
          ],
          [
           "Rwanda"
          ],
          [
           "South Africa"
          ],
          [
           "Mozambique"
          ],
          [
           "Nigeria"
          ],
          [
           "Tanzania"
          ],
          [
           "Sierra Leone"
          ],
          [
           "Namibia"
          ],
          [
           "Togo"
          ],
          [
           "Timor-Leste"
          ],
          [
           "Senegal"
          ],
          [
           "Niger"
          ],
          [
           "Pakistan"
          ],
          [
           "Uganda"
          ],
          [
           "Afghanistan"
          ],
          [
           "Gabon"
          ],
          [
           "Guinea"
          ],
          [
           "Ghana"
          ],
          [
           "Gambia"
          ],
          [
           "Mauritania"
          ],
          [
           "Eritrea"
          ],
          [
           "Equatorial Guinea"
          ],
          [
           "Cote d'Ivoire"
          ],
          [
           "Congo, Rep."
          ],
          [
           "Guinea-Bissau"
          ],
          [
           "Congo, Dem. Rep."
          ],
          [
           "Chad"
          ],
          [
           "Central African Republic"
          ],
          [
           "Cameroon"
          ],
          [
           "Burundi"
          ],
          [
           "Burkina Faso"
          ],
          [
           "Botswana"
          ],
          [
           "Benin"
          ],
          [
           "Angola"
          ],
          [
           "Comoros"
          ],
          [
           "Haiti"
          ],
          [
           "Zambia"
          ],
          [
           "Iraq"
          ],
          [
           "Mali"
          ],
          [
           "Lao"
          ],
          [
           "Malawi"
          ],
          [
           "Kiribati"
          ],
          [
           "Kenya"
          ],
          [
           "Madagascar"
          ],
          [
           "Yemen"
          ],
          [
           "Liberia"
          ],
          [
           "Lesotho"
          ]
         ],
         "hovertemplate": "Cluster=Cluster 1<br>PCA1=%{x}<br>PCA2=%{y}<br>Feature=%{customdata[0]}<extra></extra>",
         "legendgroup": "Cluster 1",
         "marker": {
          "color": "#EF553B",
          "opacity": 0.5,
          "symbol": "circle"
         },
         "mode": "markers",
         "name": "Cluster 1",
         "orientation": "v",
         "showlegend": true,
         "textposition": "top center",
         "type": "scatter",
         "x": [
          -2.3211050033569336,
          -1.6809093952178955,
          -1.1927026510238647,
          -2.9226560592651367,
          -4.915610313415527,
          -2.5559003353118896,
          -3.3840601444244385,
          -1.0441317558288574,
          -1.999089241027832,
          -2.373689889907837,
          -1.913556694984436,
          -3.452653408050537,
          -2.362058162689209,
          -2.8569042682647705,
          -2.915132761001587,
          -1.4227335453033447,
          -2.9716806411743164,
          -2.0556559562683105,
          -2.2152609825134277,
          -1.9553428888320923,
          -2.476489782333374,
          -1.2943596839904785,
          -2.583576202392578,
          -1.7269264459609985,
          -2.8356685638427734,
          -3.1756675243377686,
          -3.5601186752319336,
          -3.9678218364715576,
          -2.8099305629730225,
          -2.9010703563690186,
          -3.124314785003662,
          -0.8827250599861145,
          -2.6742496490478516,
          -2.9345459938049316,
          -2.0950734615325928,
          -4.412896633148193,
          -2.866126537322998,
          -1.0299726724624634,
          -3.414712905883789,
          -1.5288656949996948,
          -2.982043504714966,
          -1.2401149272918701,
          -1.8760617971420288,
          -2.137557029724121,
          -1.888819932937622,
          -1.774864673614502,
          -1.8044569492340088
         ],
         "xaxis": "x",
         "y": [
          -0.77089524269104,
          -1.0035673379898071,
          -0.557833731174469,
          0.8949989676475525,
          -0.09468226134777069,
          -0.2154427468776703,
          -0.2367631196975708,
          1.00478196144104,
          0.96021568775177,
          -1.1797910928726196,
          0.09173817932605743,
          0.9717963933944702,
          -0.4803253710269928,
          -0.35276326537132263,
          0.09580657631158829,
          0.32034018635749817,
          0.7299436330795288,
          0.38077062368392944,
          0.22392725944519043,
          1.3860609531402588,
          -0.6192179918289185,
          2.368265151977539,
          1.2102103233337402,
          2.1805598735809326,
          -0.09130457043647766,
          1.052412509918213,
          1.2916200160980225,
          0.38736557960510254,
          0.07879945635795593,
          -0.4234817326068878,
          0.038850173354148865,
          0.45825281739234924,
          0.4189814031124115,
          1.6988356113433838,
          0.34426674246788025,
          1.745597243309021,
          0.48693662881851196,
          -0.2838170528411865,
          0.5625525116920471,
          0.5468423366546631,
          0.2170419991016388,
          0.3698524236679077,
          -0.17135892808437347,
          0.34339818358421326,
          -0.10966382920742035,
          1.0554357767105103,
          2.0417935848236084
         ],
         "yaxis": "y"
        },
        {
         "customdata": [
          [
           "New Zealand"
          ],
          [
           "Netherlands"
          ],
          [
           "Canada"
          ],
          [
           "Iceland"
          ],
          [
           "United Kingdom"
          ],
          [
           "United States"
          ],
          [
           "Belgium"
          ],
          [
           "Austria"
          ],
          [
           "Australia"
          ],
          [
           "United Arab Emirates"
          ],
          [
           "Brunei"
          ],
          [
           "Switzerland"
          ],
          [
           "Sweden"
          ],
          [
           "Qatar"
          ],
          [
           "Portugal"
          ],
          [
           "Ireland"
          ],
          [
           "Greece"
          ],
          [
           "Israel"
          ],
          [
           "Germany"
          ],
          [
           "Italy"
          ],
          [
           "Norway"
          ],
          [
           "Japan"
          ],
          [
           "France"
          ],
          [
           "Finland"
          ],
          [
           "Spain"
          ],
          [
           "Denmark"
          ],
          [
           "Cyprus"
          ],
          [
           "Kuwait"
          ],
          [
           "Slovenia"
          ]
         ],
         "hovertemplate": "Cluster=Cluster 2<br>PCA1=%{x}<br>PCA2=%{y}<br>Feature=%{customdata[0]}<extra></extra>",
         "legendgroup": "Cluster 2",
         "marker": {
          "color": "#00cc96",
          "opacity": 0.5,
          "symbol": "circle"
         },
         "mode": "markers",
         "name": "Cluster 2",
         "orientation": "v",
         "showlegend": true,
         "textposition": "top center",
         "type": "scatter",
         "x": [
          1.81706964969635,
          3.381600856781006,
          2.5454680919647217,
          2.4827163219451904,
          2.069483518600464,
          2.6431140899658203,
          3.1460585594177246,
          2.9759130477905273,
          2.3438563346862793,
          2.4288947582244873,
          2.4618635177612305,
          4.091500759124756,
          2.820359468460083,
          4.245364665985107,
          1.8153774738311768,
          3.671280860900879,
          1.7807773351669312,
          1.4863883256912231,
          2.6733522415161133,
          2.1673738956451416,
          3.7238855361938477,
          2.2675185203552246,
          2.25589919090271,
          2.4607372283935547,
          2.020667791366577,
          3.0126681327819824,
          2.176037549972534,
          2.467440128326416,
          2.2811386585235596
         ],
         "xaxis": "x",
         "y": [
          -1.5877925157546997,
          0.11592293530702591,
          -1.7304381132125854,
          -0.6359314322471619,
          -1.5382846593856812,
          -3.003166675567627,
          0.6648290753364563,
          -0.7361125946044922,
          -1.9923086166381836,
          1.1540403366088867,
          0.016483455896377563,
          -0.4302978813648224,
          -0.9162524938583374,
          -0.19598770141601562,
          -1.4536936283111572,
          1.7328355312347412,
          -1.768812894821167,
          -1.0512546300888062,
          -1.2760756015777588,
          -1.7759160995483398,
          -1.4500597715377808,
          -2.440307140350342,
          -1.8702510595321655,
          -1.078227162361145,
          -1.787837028503418,
          -0.8672263026237488,
          -0.004521282389760017,
          0.08821810036897659,
          0.19565296173095703
         ],
         "yaxis": "y"
        },
        {
         "customdata": [
          [
           "Singapore"
          ],
          [
           "Luxembourg"
          ],
          [
           "Malta"
          ]
         ],
         "hovertemplate": "Cluster=Cluster 3<br>PCA1=%{x}<br>PCA2=%{y}<br>Feature=%{customdata[0]}<extra></extra>",
         "legendgroup": "Cluster 3",
         "marker": {
          "color": "#ab63fa",
          "opacity": 0.5,
          "symbol": "circle"
         },
         "mode": "markers",
         "name": "Cluster 3",
         "orientation": "v",
         "showlegend": true,
         "textposition": "top center",
         "type": "scatter",
         "x": [
          5.787573337554932,
          6.922773361206055,
          3.682215690612793
         ],
         "xaxis": "x",
         "y": [
          6.695011138916016,
          4.859214782714844,
          4.77470064163208
         ],
         "yaxis": "y"
        }
       ],
       "layout": {
        "height": 600,
        "legend": {
         "title": {
          "text": "Cluster"
         },
         "tracegroupgap": 0
        },
        "margin": {
         "t": 60
        },
        "plot_bgcolor": "rgb(240,240,240)",
        "template": {
         "data": {
          "bar": [
           {
            "error_x": {
             "color": "#2a3f5f"
            },
            "error_y": {
             "color": "#2a3f5f"
            },
            "marker": {
             "line": {
              "color": "#E5ECF6",
              "width": 0.5
             },
             "pattern": {
              "fillmode": "overlay",
              "size": 10,
              "solidity": 0.2
             }
            },
            "type": "bar"
           }
          ],
          "barpolar": [
           {
            "marker": {
             "line": {
              "color": "#E5ECF6",
              "width": 0.5
             },
             "pattern": {
              "fillmode": "overlay",
              "size": 10,
              "solidity": 0.2
             }
            },
            "type": "barpolar"
           }
          ],
          "carpet": [
           {
            "aaxis": {
             "endlinecolor": "#2a3f5f",
             "gridcolor": "white",
             "linecolor": "white",
             "minorgridcolor": "white",
             "startlinecolor": "#2a3f5f"
            },
            "baxis": {
             "endlinecolor": "#2a3f5f",
             "gridcolor": "white",
             "linecolor": "white",
             "minorgridcolor": "white",
             "startlinecolor": "#2a3f5f"
            },
            "type": "carpet"
           }
          ],
          "choropleth": [
           {
            "colorbar": {
             "outlinewidth": 0,
             "ticks": ""
            },
            "type": "choropleth"
           }
          ],
          "contour": [
           {
            "colorbar": {
             "outlinewidth": 0,
             "ticks": ""
            },
            "colorscale": [
             [
              0,
              "#0d0887"
             ],
             [
              0.1111111111111111,
              "#46039f"
             ],
             [
              0.2222222222222222,
              "#7201a8"
             ],
             [
              0.3333333333333333,
              "#9c179e"
             ],
             [
              0.4444444444444444,
              "#bd3786"
             ],
             [
              0.5555555555555556,
              "#d8576b"
             ],
             [
              0.6666666666666666,
              "#ed7953"
             ],
             [
              0.7777777777777778,
              "#fb9f3a"
             ],
             [
              0.8888888888888888,
              "#fdca26"
             ],
             [
              1,
              "#f0f921"
             ]
            ],
            "type": "contour"
           }
          ],
          "contourcarpet": [
           {
            "colorbar": {
             "outlinewidth": 0,
             "ticks": ""
            },
            "type": "contourcarpet"
           }
          ],
          "heatmap": [
           {
            "colorbar": {
             "outlinewidth": 0,
             "ticks": ""
            },
            "colorscale": [
             [
              0,
              "#0d0887"
             ],
             [
              0.1111111111111111,
              "#46039f"
             ],
             [
              0.2222222222222222,
              "#7201a8"
             ],
             [
              0.3333333333333333,
              "#9c179e"
             ],
             [
              0.4444444444444444,
              "#bd3786"
             ],
             [
              0.5555555555555556,
              "#d8576b"
             ],
             [
              0.6666666666666666,
              "#ed7953"
             ],
             [
              0.7777777777777778,
              "#fb9f3a"
             ],
             [
              0.8888888888888888,
              "#fdca26"
             ],
             [
              1,
              "#f0f921"
             ]
            ],
            "type": "heatmap"
           }
          ],
          "heatmapgl": [
           {
            "colorbar": {
             "outlinewidth": 0,
             "ticks": ""
            },
            "colorscale": [
             [
              0,
              "#0d0887"
             ],
             [
              0.1111111111111111,
              "#46039f"
             ],
             [
              0.2222222222222222,
              "#7201a8"
             ],
             [
              0.3333333333333333,
              "#9c179e"
             ],
             [
              0.4444444444444444,
              "#bd3786"
             ],
             [
              0.5555555555555556,
              "#d8576b"
             ],
             [
              0.6666666666666666,
              "#ed7953"
             ],
             [
              0.7777777777777778,
              "#fb9f3a"
             ],
             [
              0.8888888888888888,
              "#fdca26"
             ],
             [
              1,
              "#f0f921"
             ]
            ],
            "type": "heatmapgl"
           }
          ],
          "histogram": [
           {
            "marker": {
             "pattern": {
              "fillmode": "overlay",
              "size": 10,
              "solidity": 0.2
             }
            },
            "type": "histogram"
           }
          ],
          "histogram2d": [
           {
            "colorbar": {
             "outlinewidth": 0,
             "ticks": ""
            },
            "colorscale": [
             [
              0,
              "#0d0887"
             ],
             [
              0.1111111111111111,
              "#46039f"
             ],
             [
              0.2222222222222222,
              "#7201a8"
             ],
             [
              0.3333333333333333,
              "#9c179e"
             ],
             [
              0.4444444444444444,
              "#bd3786"
             ],
             [
              0.5555555555555556,
              "#d8576b"
             ],
             [
              0.6666666666666666,
              "#ed7953"
             ],
             [
              0.7777777777777778,
              "#fb9f3a"
             ],
             [
              0.8888888888888888,
              "#fdca26"
             ],
             [
              1,
              "#f0f921"
             ]
            ],
            "type": "histogram2d"
           }
          ],
          "histogram2dcontour": [
           {
            "colorbar": {
             "outlinewidth": 0,
             "ticks": ""
            },
            "colorscale": [
             [
              0,
              "#0d0887"
             ],
             [
              0.1111111111111111,
              "#46039f"
             ],
             [
              0.2222222222222222,
              "#7201a8"
             ],
             [
              0.3333333333333333,
              "#9c179e"
             ],
             [
              0.4444444444444444,
              "#bd3786"
             ],
             [
              0.5555555555555556,
              "#d8576b"
             ],
             [
              0.6666666666666666,
              "#ed7953"
             ],
             [
              0.7777777777777778,
              "#fb9f3a"
             ],
             [
              0.8888888888888888,
              "#fdca26"
             ],
             [
              1,
              "#f0f921"
             ]
            ],
            "type": "histogram2dcontour"
           }
          ],
          "mesh3d": [
           {
            "colorbar": {
             "outlinewidth": 0,
             "ticks": ""
            },
            "type": "mesh3d"
           }
          ],
          "parcoords": [
           {
            "line": {
             "colorbar": {
              "outlinewidth": 0,
              "ticks": ""
             }
            },
            "type": "parcoords"
           }
          ],
          "pie": [
           {
            "automargin": true,
            "type": "pie"
           }
          ],
          "scatter": [
           {
            "marker": {
             "colorbar": {
              "outlinewidth": 0,
              "ticks": ""
             }
            },
            "type": "scatter"
           }
          ],
          "scatter3d": [
           {
            "line": {
             "colorbar": {
              "outlinewidth": 0,
              "ticks": ""
             }
            },
            "marker": {
             "colorbar": {
              "outlinewidth": 0,
              "ticks": ""
             }
            },
            "type": "scatter3d"
           }
          ],
          "scattercarpet": [
           {
            "marker": {
             "colorbar": {
              "outlinewidth": 0,
              "ticks": ""
             }
            },
            "type": "scattercarpet"
           }
          ],
          "scattergeo": [
           {
            "marker": {
             "colorbar": {
              "outlinewidth": 0,
              "ticks": ""
             }
            },
            "type": "scattergeo"
           }
          ],
          "scattergl": [
           {
            "marker": {
             "colorbar": {
              "outlinewidth": 0,
              "ticks": ""
             }
            },
            "type": "scattergl"
           }
          ],
          "scattermapbox": [
           {
            "marker": {
             "colorbar": {
              "outlinewidth": 0,
              "ticks": ""
             }
            },
            "type": "scattermapbox"
           }
          ],
          "scatterpolar": [
           {
            "marker": {
             "colorbar": {
              "outlinewidth": 0,
              "ticks": ""
             }
            },
            "type": "scatterpolar"
           }
          ],
          "scatterpolargl": [
           {
            "marker": {
             "colorbar": {
              "outlinewidth": 0,
              "ticks": ""
             }
            },
            "type": "scatterpolargl"
           }
          ],
          "scatterternary": [
           {
            "marker": {
             "colorbar": {
              "outlinewidth": 0,
              "ticks": ""
             }
            },
            "type": "scatterternary"
           }
          ],
          "surface": [
           {
            "colorbar": {
             "outlinewidth": 0,
             "ticks": ""
            },
            "colorscale": [
             [
              0,
              "#0d0887"
             ],
             [
              0.1111111111111111,
              "#46039f"
             ],
             [
              0.2222222222222222,
              "#7201a8"
             ],
             [
              0.3333333333333333,
              "#9c179e"
             ],
             [
              0.4444444444444444,
              "#bd3786"
             ],
             [
              0.5555555555555556,
              "#d8576b"
             ],
             [
              0.6666666666666666,
              "#ed7953"
             ],
             [
              0.7777777777777778,
              "#fb9f3a"
             ],
             [
              0.8888888888888888,
              "#fdca26"
             ],
             [
              1,
              "#f0f921"
             ]
            ],
            "type": "surface"
           }
          ],
          "table": [
           {
            "cells": {
             "fill": {
              "color": "#EBF0F8"
             },
             "line": {
              "color": "white"
             }
            },
            "header": {
             "fill": {
              "color": "#C8D4E3"
             },
             "line": {
              "color": "white"
             }
            },
            "type": "table"
           }
          ]
         },
         "layout": {
          "annotationdefaults": {
           "arrowcolor": "#2a3f5f",
           "arrowhead": 0,
           "arrowwidth": 1
          },
          "autotypenumbers": "strict",
          "coloraxis": {
           "colorbar": {
            "outlinewidth": 0,
            "ticks": ""
           }
          },
          "colorscale": {
           "diverging": [
            [
             0,
             "#8e0152"
            ],
            [
             0.1,
             "#c51b7d"
            ],
            [
             0.2,
             "#de77ae"
            ],
            [
             0.3,
             "#f1b6da"
            ],
            [
             0.4,
             "#fde0ef"
            ],
            [
             0.5,
             "#f7f7f7"
            ],
            [
             0.6,
             "#e6f5d0"
            ],
            [
             0.7,
             "#b8e186"
            ],
            [
             0.8,
             "#7fbc41"
            ],
            [
             0.9,
             "#4d9221"
            ],
            [
             1,
             "#276419"
            ]
           ],
           "sequential": [
            [
             0,
             "#0d0887"
            ],
            [
             0.1111111111111111,
             "#46039f"
            ],
            [
             0.2222222222222222,
             "#7201a8"
            ],
            [
             0.3333333333333333,
             "#9c179e"
            ],
            [
             0.4444444444444444,
             "#bd3786"
            ],
            [
             0.5555555555555556,
             "#d8576b"
            ],
            [
             0.6666666666666666,
             "#ed7953"
            ],
            [
             0.7777777777777778,
             "#fb9f3a"
            ],
            [
             0.8888888888888888,
             "#fdca26"
            ],
            [
             1,
             "#f0f921"
            ]
           ],
           "sequentialminus": [
            [
             0,
             "#0d0887"
            ],
            [
             0.1111111111111111,
             "#46039f"
            ],
            [
             0.2222222222222222,
             "#7201a8"
            ],
            [
             0.3333333333333333,
             "#9c179e"
            ],
            [
             0.4444444444444444,
             "#bd3786"
            ],
            [
             0.5555555555555556,
             "#d8576b"
            ],
            [
             0.6666666666666666,
             "#ed7953"
            ],
            [
             0.7777777777777778,
             "#fb9f3a"
            ],
            [
             0.8888888888888888,
             "#fdca26"
            ],
            [
             1,
             "#f0f921"
            ]
           ]
          },
          "colorway": [
           "#636efa",
           "#EF553B",
           "#00cc96",
           "#ab63fa",
           "#FFA15A",
           "#19d3f3",
           "#FF6692",
           "#B6E880",
           "#FF97FF",
           "#FECB52"
          ],
          "font": {
           "color": "#2a3f5f"
          },
          "geo": {
           "bgcolor": "white",
           "lakecolor": "white",
           "landcolor": "#E5ECF6",
           "showlakes": true,
           "showland": true,
           "subunitcolor": "white"
          },
          "hoverlabel": {
           "align": "left"
          },
          "hovermode": "closest",
          "mapbox": {
           "style": "light"
          },
          "paper_bgcolor": "white",
          "plot_bgcolor": "#E5ECF6",
          "polar": {
           "angularaxis": {
            "gridcolor": "white",
            "linecolor": "white",
            "ticks": ""
           },
           "bgcolor": "#E5ECF6",
           "radialaxis": {
            "gridcolor": "white",
            "linecolor": "white",
            "ticks": ""
           }
          },
          "scene": {
           "xaxis": {
            "backgroundcolor": "#E5ECF6",
            "gridcolor": "white",
            "gridwidth": 2,
            "linecolor": "white",
            "showbackground": true,
            "ticks": "",
            "zerolinecolor": "white"
           },
           "yaxis": {
            "backgroundcolor": "#E5ECF6",
            "gridcolor": "white",
            "gridwidth": 2,
            "linecolor": "white",
            "showbackground": true,
            "ticks": "",
            "zerolinecolor": "white"
           },
           "zaxis": {
            "backgroundcolor": "#E5ECF6",
            "gridcolor": "white",
            "gridwidth": 2,
            "linecolor": "white",
            "showbackground": true,
            "ticks": "",
            "zerolinecolor": "white"
           }
          },
          "shapedefaults": {
           "line": {
            "color": "#2a3f5f"
           }
          },
          "ternary": {
           "aaxis": {
            "gridcolor": "white",
            "linecolor": "white",
            "ticks": ""
           },
           "baxis": {
            "gridcolor": "white",
            "linecolor": "white",
            "ticks": ""
           },
           "bgcolor": "#E5ECF6",
           "caxis": {
            "gridcolor": "white",
            "linecolor": "white",
            "ticks": ""
           }
          },
          "title": {
           "x": 0.05
          },
          "xaxis": {
           "automargin": true,
           "gridcolor": "white",
           "linecolor": "white",
           "ticks": "",
           "title": {
            "standoff": 15
           },
           "zerolinecolor": "white",
           "zerolinewidth": 2
          },
          "yaxis": {
           "automargin": true,
           "gridcolor": "white",
           "linecolor": "white",
           "ticks": "",
           "title": {
            "standoff": 15
           },
           "zerolinecolor": "white",
           "zerolinewidth": 2
          }
         }
        },
        "title": {
         "text": "2D Cluster PCA Plot"
        },
        "xaxis": {
         "anchor": "y",
         "domain": [
          0,
          1
         ],
         "title": {
          "text": "PCA1"
         }
        },
        "yaxis": {
         "anchor": "x",
         "domain": [
          0,
          1
         ],
         "title": {
          "text": "PCA2"
         }
        }
       }
      },
      "text/html": [
       "<div>                            <div id=\"a3788d3e-1855-47cf-9e0c-cb53ae59555a\" class=\"plotly-graph-div\" style=\"height:600px; width:100%;\"></div>            <script type=\"text/javascript\">                require([\"plotly\"], function(Plotly) {                    window.PLOTLYENV=window.PLOTLYENV || {};                                    if (document.getElementById(\"a3788d3e-1855-47cf-9e0c-cb53ae59555a\")) {                    Plotly.newPlot(                        \"a3788d3e-1855-47cf-9e0c-cb53ae59555a\",                        [{\"customdata\":[[\"Kyrgyz Republic\"],[\"Indonesia\"],[\"India\"],[\"Russia\"],[\"Hungary\"],[\"Guyana\"],[\"Samoa\"],[\"Saudi Arabia\"],[\"Guatemala\"],[\"Grenada\"],[\"Serbia\"],[\"Seychelles\"],[\"Georgia\"],[\"Slovak Republic\"],[\"Solomon Islands\"],[\"Fiji\"],[\"Estonia\"],[\"Mauritius\"],[\"Sri Lanka\"],[\"El Salvador\"],[\"Iran\"],[\"Romania\"],[\"Poland\"],[\"Philippines\"],[\"Moldova\"],[\"Mongolia\"],[\"Montenegro\"],[\"Maldives\"],[\"Malaysia\"],[\"Morocco\"],[\"Macedonia, FYR\"],[\"Myanmar\"],[\"Lithuania\"],[\"Egypt\"],[\"Libya\"],[\"Lebanon\"],[\"Latvia\"],[\"Oman\"],[\"Panama\"],[\"Kazakhstan\"],[\"Jordan\"],[\"Paraguay\"],[\"Jamaica\"],[\"Peru\"],[\"Nepal\"],[\"Ecuador\"],[\"South Korea\"],[\"St. Vincent and the Grenadines\"],[\"Dominican Republic\"],[\"Bosnia and Herzegovina\"],[\"Bolivia\"],[\"Bhutan\"],[\"Uruguay\"],[\"Belize\"],[\"Uzbekistan\"],[\"Belarus\"],[\"Barbados\"],[\"Bangladesh\"],[\"Bahrain\"],[\"Bahamas\"],[\"Azerbaijan\"],[\"Vanuatu\"],[\"Venezuela\"],[\"Armenia\"],[\"Argentina\"],[\"Antigua and Barbuda\"],[\"Vietnam\"],[\"Algeria\"],[\"Albania\"],[\"Brazil\"],[\"Bulgaria\"],[\"Ukraine\"],[\"China\"],[\"Czech Republic\"],[\"Croatia\"],[\"Suriname\"],[\"Costa Rica\"],[\"Tajikistan\"],[\"Thailand\"],[\"Colombia\"],[\"Turkmenistan\"],[\"Chile\"],[\"Micronesia, Fed. Sts.\"],[\"Tonga\"],[\"Turkey\"],[\"Cambodia\"],[\"Tunisia\"],[\"Cape Verde\"]],\"hovertemplate\":\"Cluster=Cluster 0<br>PCA1=%{x}<br>PCA2=%{y}<br>Feature=%{customdata[0]}<extra></extra>\",\"legendgroup\":\"Cluster 0\",\"marker\":{\"color\":\"#636efa\",\"opacity\":0.5,\"symbol\":\"circle\"},\"mode\":\"markers\",\"name\":\"Cluster 0\",\"orientation\":\"v\",\"showlegend\":true,\"x\":[-0.3402157723903656,-0.9554415941238403,-1.3438009023666382,0.1638762205839157,1.8404886722564697,-0.3230145573616028,-0.5633055567741394,0.8565517663955688,-0.6639832854270935,0.14560991525650024,0.8330190181732178,1.6037551164627075,0.32217511534690857,2.0311896800994873,-0.8067915439605713,-0.18896470963954926,1.6602810621261597,0.9004231095314026,-0.5759925842285156,0.08192657679319382,-0.0010660538682714105,0.5732033848762512,1.2187055349349976,-0.7833126783370972,0.5099082589149475,-0.9456601142883301,1.027423620223999,1.1094005107879639,1.2317160367965698,-0.23303891718387604,0.7337374687194824,-1.8385310173034668,1.410805106163025,-0.8488010764122009,0.8195323944091797,1.1728355884552002,1.1896969079971313,1.1281989812850952,1.1646239757537842,-0.2935590147972107,0.16025884449481964,0.11793126910924911,0.018622085452079773,-0.020651068538427353,-1.3080358505249023,0.009624801576137543,1.9194471836090088,0.026642348617315292,-0.2312709242105484,0.9965847134590149,-0.7944262027740479,-0.1566844880580902,0.6177588105201721,0.21140845119953156,-0.8541467189788818,0.5804542899131775,1.0821658372879028,-1.1246646642684937,1.6722023487091064,1.269659161567688,-0.18161851167678833,-0.8212247490882874,-0.5514350533485413,-0.10165777057409286,0.022423002868890762,1.0343207120895386,0.4988856613636017,-0.28543218970298767,0.43021726608276367,0.14088238775730133,0.9072474241256714,0.3025183379650116,0.05752251669764519,2.054746627807617,1.149703860282898,0.17179910838603973,0.9385017156600952,-1.2453646659851074,0.9267593026161194,0.12123320996761322,-0.46427121758461,0.9523410201072693,-0.3812030255794525,-0.7555549144744873,0.40172436833381653,-0.5828362107276917,0.6026671528816223,-0.1559142768383026],\"xaxis\":\"x\",\"y\":[1.30070960521698,-0.7337765097618103,-0.5361716151237488,-1.0687402486801147,1.2754281759262085,1.363976001739502,-0.022145623341202736,-0.183795765042305,-0.6150972247123718,-0.4321691393852234,-0.8710060119628906,2.9448089599609375,-0.5192562937736511,1.052439570426941,1.3060126304626465,1.0738394260406494,1.0235412120819092,0.41728782653808594,-0.9994792342185974,-0.5689007043838501,-1.3369293212890625,-0.6386160254478455,-0.6604432463645935,-0.09668295085430145,0.16197223961353302,0.5308261513710022,-0.25813835859298706,1.0112684965133667,1.6048486232757568,-0.2815696895122528,-0.0950489342212677,-1.6167875528335571,0.7312461733818054,-0.821402907371521,0.3905966579914093,-0.25678887963294983,0.16235525906085968,0.4925627112388611,1.117434024810791,-0.23798415064811707,0.5421123504638672,0.3617311716079712,-0.23942166566848755,-1.0887175798416138,-0.7905728816986084,-1.0472415685653687,-0.428294837474823,-0.01609330251812935,-0.8823439478874207,-0.9737666249275208,-0.12049216032028198,0.7789012789726257,-1.4332438707351685,0.7005972266197205,-0.6557489633560181,0.536361813545227,-0.48290276527404785,-0.9632545709609985,0.5622480511665344,-0.657858669757843,-0.4036444425582886,0.6408087015151978,-1.2362728118896484,-0.5693491101264954,-1.7826300859451294,0.13692282140254974,1.3934367895126343,-0.4560551643371582,-0.5892889499664307,-2.155238151550293,0.030338086187839508,-0.0977577194571495,-1.1922961473464966,0.4240175187587738,-0.8464474678039551,-0.09499052911996841,-1.353083610534668,-0.028972089290618896,0.8298352360725403,-1.7723299264907837,1.2943735122680664,-1.07850980758667,0.10197065770626068,-0.0880618691444397,-1.4147194623947144,0.8965532183647156,0.17377272248268127,0.3519178330898285],\"yaxis\":\"y\",\"type\":\"scatter\",\"textposition\":\"top center\"},{\"customdata\":[[\"Sudan\"],[\"Rwanda\"],[\"South Africa\"],[\"Mozambique\"],[\"Nigeria\"],[\"Tanzania\"],[\"Sierra Leone\"],[\"Namibia\"],[\"Togo\"],[\"Timor-Leste\"],[\"Senegal\"],[\"Niger\"],[\"Pakistan\"],[\"Uganda\"],[\"Afghanistan\"],[\"Gabon\"],[\"Guinea\"],[\"Ghana\"],[\"Gambia\"],[\"Mauritania\"],[\"Eritrea\"],[\"Equatorial Guinea\"],[\"Cote d'Ivoire\"],[\"Congo, Rep.\"],[\"Guinea-Bissau\"],[\"Congo, Dem. Rep.\"],[\"Chad\"],[\"Central African Republic\"],[\"Cameroon\"],[\"Burundi\"],[\"Burkina Faso\"],[\"Botswana\"],[\"Benin\"],[\"Angola\"],[\"Comoros\"],[\"Haiti\"],[\"Zambia\"],[\"Iraq\"],[\"Mali\"],[\"Lao\"],[\"Malawi\"],[\"Kiribati\"],[\"Kenya\"],[\"Madagascar\"],[\"Yemen\"],[\"Liberia\"],[\"Lesotho\"]],\"hovertemplate\":\"Cluster=Cluster 1<br>PCA1=%{x}<br>PCA2=%{y}<br>Feature=%{customdata[0]}<extra></extra>\",\"legendgroup\":\"Cluster 1\",\"marker\":{\"color\":\"#EF553B\",\"opacity\":0.5,\"symbol\":\"circle\"},\"mode\":\"markers\",\"name\":\"Cluster 1\",\"orientation\":\"v\",\"showlegend\":true,\"x\":[-2.3211050033569336,-1.6809093952178955,-1.1927026510238647,-2.9226560592651367,-4.915610313415527,-2.5559003353118896,-3.3840601444244385,-1.0441317558288574,-1.999089241027832,-2.373689889907837,-1.913556694984436,-3.452653408050537,-2.362058162689209,-2.8569042682647705,-2.915132761001587,-1.4227335453033447,-2.9716806411743164,-2.0556559562683105,-2.2152609825134277,-1.9553428888320923,-2.476489782333374,-1.2943596839904785,-2.583576202392578,-1.7269264459609985,-2.8356685638427734,-3.1756675243377686,-3.5601186752319336,-3.9678218364715576,-2.8099305629730225,-2.9010703563690186,-3.124314785003662,-0.8827250599861145,-2.6742496490478516,-2.9345459938049316,-2.0950734615325928,-4.412896633148193,-2.866126537322998,-1.0299726724624634,-3.414712905883789,-1.5288656949996948,-2.982043504714966,-1.2401149272918701,-1.8760617971420288,-2.137557029724121,-1.888819932937622,-1.774864673614502,-1.8044569492340088],\"xaxis\":\"x\",\"y\":[-0.77089524269104,-1.0035673379898071,-0.557833731174469,0.8949989676475525,-0.09468226134777069,-0.2154427468776703,-0.2367631196975708,1.00478196144104,0.96021568775177,-1.1797910928726196,0.09173817932605743,0.9717963933944702,-0.4803253710269928,-0.35276326537132263,0.09580657631158829,0.32034018635749817,0.7299436330795288,0.38077062368392944,0.22392725944519043,1.3860609531402588,-0.6192179918289185,2.368265151977539,1.2102103233337402,2.1805598735809326,-0.09130457043647766,1.052412509918213,1.2916200160980225,0.38736557960510254,0.07879945635795593,-0.4234817326068878,0.038850173354148865,0.45825281739234924,0.4189814031124115,1.6988356113433838,0.34426674246788025,1.745597243309021,0.48693662881851196,-0.2838170528411865,0.5625525116920471,0.5468423366546631,0.2170419991016388,0.3698524236679077,-0.17135892808437347,0.34339818358421326,-0.10966382920742035,1.0554357767105103,2.0417935848236084],\"yaxis\":\"y\",\"type\":\"scatter\",\"textposition\":\"top center\"},{\"customdata\":[[\"New Zealand\"],[\"Netherlands\"],[\"Canada\"],[\"Iceland\"],[\"United Kingdom\"],[\"United States\"],[\"Belgium\"],[\"Austria\"],[\"Australia\"],[\"United Arab Emirates\"],[\"Brunei\"],[\"Switzerland\"],[\"Sweden\"],[\"Qatar\"],[\"Portugal\"],[\"Ireland\"],[\"Greece\"],[\"Israel\"],[\"Germany\"],[\"Italy\"],[\"Norway\"],[\"Japan\"],[\"France\"],[\"Finland\"],[\"Spain\"],[\"Denmark\"],[\"Cyprus\"],[\"Kuwait\"],[\"Slovenia\"]],\"hovertemplate\":\"Cluster=Cluster 2<br>PCA1=%{x}<br>PCA2=%{y}<br>Feature=%{customdata[0]}<extra></extra>\",\"legendgroup\":\"Cluster 2\",\"marker\":{\"color\":\"#00cc96\",\"opacity\":0.5,\"symbol\":\"circle\"},\"mode\":\"markers\",\"name\":\"Cluster 2\",\"orientation\":\"v\",\"showlegend\":true,\"x\":[1.81706964969635,3.381600856781006,2.5454680919647217,2.4827163219451904,2.069483518600464,2.6431140899658203,3.1460585594177246,2.9759130477905273,2.3438563346862793,2.4288947582244873,2.4618635177612305,4.091500759124756,2.820359468460083,4.245364665985107,1.8153774738311768,3.671280860900879,1.7807773351669312,1.4863883256912231,2.6733522415161133,2.1673738956451416,3.7238855361938477,2.2675185203552246,2.25589919090271,2.4607372283935547,2.020667791366577,3.0126681327819824,2.176037549972534,2.467440128326416,2.2811386585235596],\"xaxis\":\"x\",\"y\":[-1.5877925157546997,0.11592293530702591,-1.7304381132125854,-0.6359314322471619,-1.5382846593856812,-3.003166675567627,0.6648290753364563,-0.7361125946044922,-1.9923086166381836,1.1540403366088867,0.016483455896377563,-0.4302978813648224,-0.9162524938583374,-0.19598770141601562,-1.4536936283111572,1.7328355312347412,-1.768812894821167,-1.0512546300888062,-1.2760756015777588,-1.7759160995483398,-1.4500597715377808,-2.440307140350342,-1.8702510595321655,-1.078227162361145,-1.787837028503418,-0.8672263026237488,-0.004521282389760017,0.08821810036897659,0.19565296173095703],\"yaxis\":\"y\",\"type\":\"scatter\",\"textposition\":\"top center\"},{\"customdata\":[[\"Singapore\"],[\"Luxembourg\"],[\"Malta\"]],\"hovertemplate\":\"Cluster=Cluster 3<br>PCA1=%{x}<br>PCA2=%{y}<br>Feature=%{customdata[0]}<extra></extra>\",\"legendgroup\":\"Cluster 3\",\"marker\":{\"color\":\"#ab63fa\",\"opacity\":0.5,\"symbol\":\"circle\"},\"mode\":\"markers\",\"name\":\"Cluster 3\",\"orientation\":\"v\",\"showlegend\":true,\"x\":[5.787573337554932,6.922773361206055,3.682215690612793],\"xaxis\":\"x\",\"y\":[6.695011138916016,4.859214782714844,4.77470064163208],\"yaxis\":\"y\",\"type\":\"scatter\",\"textposition\":\"top center\"}],                        {\"template\":{\"data\":{\"bar\":[{\"error_x\":{\"color\":\"#2a3f5f\"},\"error_y\":{\"color\":\"#2a3f5f\"},\"marker\":{\"line\":{\"color\":\"#E5ECF6\",\"width\":0.5},\"pattern\":{\"fillmode\":\"overlay\",\"size\":10,\"solidity\":0.2}},\"type\":\"bar\"}],\"barpolar\":[{\"marker\":{\"line\":{\"color\":\"#E5ECF6\",\"width\":0.5},\"pattern\":{\"fillmode\":\"overlay\",\"size\":10,\"solidity\":0.2}},\"type\":\"barpolar\"}],\"carpet\":[{\"aaxis\":{\"endlinecolor\":\"#2a3f5f\",\"gridcolor\":\"white\",\"linecolor\":\"white\",\"minorgridcolor\":\"white\",\"startlinecolor\":\"#2a3f5f\"},\"baxis\":{\"endlinecolor\":\"#2a3f5f\",\"gridcolor\":\"white\",\"linecolor\":\"white\",\"minorgridcolor\":\"white\",\"startlinecolor\":\"#2a3f5f\"},\"type\":\"carpet\"}],\"choropleth\":[{\"colorbar\":{\"outlinewidth\":0,\"ticks\":\"\"},\"type\":\"choropleth\"}],\"contour\":[{\"colorbar\":{\"outlinewidth\":0,\"ticks\":\"\"},\"colorscale\":[[0.0,\"#0d0887\"],[0.1111111111111111,\"#46039f\"],[0.2222222222222222,\"#7201a8\"],[0.3333333333333333,\"#9c179e\"],[0.4444444444444444,\"#bd3786\"],[0.5555555555555556,\"#d8576b\"],[0.6666666666666666,\"#ed7953\"],[0.7777777777777778,\"#fb9f3a\"],[0.8888888888888888,\"#fdca26\"],[1.0,\"#f0f921\"]],\"type\":\"contour\"}],\"contourcarpet\":[{\"colorbar\":{\"outlinewidth\":0,\"ticks\":\"\"},\"type\":\"contourcarpet\"}],\"heatmap\":[{\"colorbar\":{\"outlinewidth\":0,\"ticks\":\"\"},\"colorscale\":[[0.0,\"#0d0887\"],[0.1111111111111111,\"#46039f\"],[0.2222222222222222,\"#7201a8\"],[0.3333333333333333,\"#9c179e\"],[0.4444444444444444,\"#bd3786\"],[0.5555555555555556,\"#d8576b\"],[0.6666666666666666,\"#ed7953\"],[0.7777777777777778,\"#fb9f3a\"],[0.8888888888888888,\"#fdca26\"],[1.0,\"#f0f921\"]],\"type\":\"heatmap\"}],\"heatmapgl\":[{\"colorbar\":{\"outlinewidth\":0,\"ticks\":\"\"},\"colorscale\":[[0.0,\"#0d0887\"],[0.1111111111111111,\"#46039f\"],[0.2222222222222222,\"#7201a8\"],[0.3333333333333333,\"#9c179e\"],[0.4444444444444444,\"#bd3786\"],[0.5555555555555556,\"#d8576b\"],[0.6666666666666666,\"#ed7953\"],[0.7777777777777778,\"#fb9f3a\"],[0.8888888888888888,\"#fdca26\"],[1.0,\"#f0f921\"]],\"type\":\"heatmapgl\"}],\"histogram\":[{\"marker\":{\"pattern\":{\"fillmode\":\"overlay\",\"size\":10,\"solidity\":0.2}},\"type\":\"histogram\"}],\"histogram2d\":[{\"colorbar\":{\"outlinewidth\":0,\"ticks\":\"\"},\"colorscale\":[[0.0,\"#0d0887\"],[0.1111111111111111,\"#46039f\"],[0.2222222222222222,\"#7201a8\"],[0.3333333333333333,\"#9c179e\"],[0.4444444444444444,\"#bd3786\"],[0.5555555555555556,\"#d8576b\"],[0.6666666666666666,\"#ed7953\"],[0.7777777777777778,\"#fb9f3a\"],[0.8888888888888888,\"#fdca26\"],[1.0,\"#f0f921\"]],\"type\":\"histogram2d\"}],\"histogram2dcontour\":[{\"colorbar\":{\"outlinewidth\":0,\"ticks\":\"\"},\"colorscale\":[[0.0,\"#0d0887\"],[0.1111111111111111,\"#46039f\"],[0.2222222222222222,\"#7201a8\"],[0.3333333333333333,\"#9c179e\"],[0.4444444444444444,\"#bd3786\"],[0.5555555555555556,\"#d8576b\"],[0.6666666666666666,\"#ed7953\"],[0.7777777777777778,\"#fb9f3a\"],[0.8888888888888888,\"#fdca26\"],[1.0,\"#f0f921\"]],\"type\":\"histogram2dcontour\"}],\"mesh3d\":[{\"colorbar\":{\"outlinewidth\":0,\"ticks\":\"\"},\"type\":\"mesh3d\"}],\"parcoords\":[{\"line\":{\"colorbar\":{\"outlinewidth\":0,\"ticks\":\"\"}},\"type\":\"parcoords\"}],\"pie\":[{\"automargin\":true,\"type\":\"pie\"}],\"scatter\":[{\"marker\":{\"colorbar\":{\"outlinewidth\":0,\"ticks\":\"\"}},\"type\":\"scatter\"}],\"scatter3d\":[{\"line\":{\"colorbar\":{\"outlinewidth\":0,\"ticks\":\"\"}},\"marker\":{\"colorbar\":{\"outlinewidth\":0,\"ticks\":\"\"}},\"type\":\"scatter3d\"}],\"scattercarpet\":[{\"marker\":{\"colorbar\":{\"outlinewidth\":0,\"ticks\":\"\"}},\"type\":\"scattercarpet\"}],\"scattergeo\":[{\"marker\":{\"colorbar\":{\"outlinewidth\":0,\"ticks\":\"\"}},\"type\":\"scattergeo\"}],\"scattergl\":[{\"marker\":{\"colorbar\":{\"outlinewidth\":0,\"ticks\":\"\"}},\"type\":\"scattergl\"}],\"scattermapbox\":[{\"marker\":{\"colorbar\":{\"outlinewidth\":0,\"ticks\":\"\"}},\"type\":\"scattermapbox\"}],\"scatterpolar\":[{\"marker\":{\"colorbar\":{\"outlinewidth\":0,\"ticks\":\"\"}},\"type\":\"scatterpolar\"}],\"scatterpolargl\":[{\"marker\":{\"colorbar\":{\"outlinewidth\":0,\"ticks\":\"\"}},\"type\":\"scatterpolargl\"}],\"scatterternary\":[{\"marker\":{\"colorbar\":{\"outlinewidth\":0,\"ticks\":\"\"}},\"type\":\"scatterternary\"}],\"surface\":[{\"colorbar\":{\"outlinewidth\":0,\"ticks\":\"\"},\"colorscale\":[[0.0,\"#0d0887\"],[0.1111111111111111,\"#46039f\"],[0.2222222222222222,\"#7201a8\"],[0.3333333333333333,\"#9c179e\"],[0.4444444444444444,\"#bd3786\"],[0.5555555555555556,\"#d8576b\"],[0.6666666666666666,\"#ed7953\"],[0.7777777777777778,\"#fb9f3a\"],[0.8888888888888888,\"#fdca26\"],[1.0,\"#f0f921\"]],\"type\":\"surface\"}],\"table\":[{\"cells\":{\"fill\":{\"color\":\"#EBF0F8\"},\"line\":{\"color\":\"white\"}},\"header\":{\"fill\":{\"color\":\"#C8D4E3\"},\"line\":{\"color\":\"white\"}},\"type\":\"table\"}]},\"layout\":{\"annotationdefaults\":{\"arrowcolor\":\"#2a3f5f\",\"arrowhead\":0,\"arrowwidth\":1},\"autotypenumbers\":\"strict\",\"coloraxis\":{\"colorbar\":{\"outlinewidth\":0,\"ticks\":\"\"}},\"colorscale\":{\"diverging\":[[0,\"#8e0152\"],[0.1,\"#c51b7d\"],[0.2,\"#de77ae\"],[0.3,\"#f1b6da\"],[0.4,\"#fde0ef\"],[0.5,\"#f7f7f7\"],[0.6,\"#e6f5d0\"],[0.7,\"#b8e186\"],[0.8,\"#7fbc41\"],[0.9,\"#4d9221\"],[1,\"#276419\"]],\"sequential\":[[0.0,\"#0d0887\"],[0.1111111111111111,\"#46039f\"],[0.2222222222222222,\"#7201a8\"],[0.3333333333333333,\"#9c179e\"],[0.4444444444444444,\"#bd3786\"],[0.5555555555555556,\"#d8576b\"],[0.6666666666666666,\"#ed7953\"],[0.7777777777777778,\"#fb9f3a\"],[0.8888888888888888,\"#fdca26\"],[1.0,\"#f0f921\"]],\"sequentialminus\":[[0.0,\"#0d0887\"],[0.1111111111111111,\"#46039f\"],[0.2222222222222222,\"#7201a8\"],[0.3333333333333333,\"#9c179e\"],[0.4444444444444444,\"#bd3786\"],[0.5555555555555556,\"#d8576b\"],[0.6666666666666666,\"#ed7953\"],[0.7777777777777778,\"#fb9f3a\"],[0.8888888888888888,\"#fdca26\"],[1.0,\"#f0f921\"]]},\"colorway\":[\"#636efa\",\"#EF553B\",\"#00cc96\",\"#ab63fa\",\"#FFA15A\",\"#19d3f3\",\"#FF6692\",\"#B6E880\",\"#FF97FF\",\"#FECB52\"],\"font\":{\"color\":\"#2a3f5f\"},\"geo\":{\"bgcolor\":\"white\",\"lakecolor\":\"white\",\"landcolor\":\"#E5ECF6\",\"showlakes\":true,\"showland\":true,\"subunitcolor\":\"white\"},\"hoverlabel\":{\"align\":\"left\"},\"hovermode\":\"closest\",\"mapbox\":{\"style\":\"light\"},\"paper_bgcolor\":\"white\",\"plot_bgcolor\":\"#E5ECF6\",\"polar\":{\"angularaxis\":{\"gridcolor\":\"white\",\"linecolor\":\"white\",\"ticks\":\"\"},\"bgcolor\":\"#E5ECF6\",\"radialaxis\":{\"gridcolor\":\"white\",\"linecolor\":\"white\",\"ticks\":\"\"}},\"scene\":{\"xaxis\":{\"backgroundcolor\":\"#E5ECF6\",\"gridcolor\":\"white\",\"gridwidth\":2,\"linecolor\":\"white\",\"showbackground\":true,\"ticks\":\"\",\"zerolinecolor\":\"white\"},\"yaxis\":{\"backgroundcolor\":\"#E5ECF6\",\"gridcolor\":\"white\",\"gridwidth\":2,\"linecolor\":\"white\",\"showbackground\":true,\"ticks\":\"\",\"zerolinecolor\":\"white\"},\"zaxis\":{\"backgroundcolor\":\"#E5ECF6\",\"gridcolor\":\"white\",\"gridwidth\":2,\"linecolor\":\"white\",\"showbackground\":true,\"ticks\":\"\",\"zerolinecolor\":\"white\"}},\"shapedefaults\":{\"line\":{\"color\":\"#2a3f5f\"}},\"ternary\":{\"aaxis\":{\"gridcolor\":\"white\",\"linecolor\":\"white\",\"ticks\":\"\"},\"baxis\":{\"gridcolor\":\"white\",\"linecolor\":\"white\",\"ticks\":\"\"},\"bgcolor\":\"#E5ECF6\",\"caxis\":{\"gridcolor\":\"white\",\"linecolor\":\"white\",\"ticks\":\"\"}},\"title\":{\"x\":0.05},\"xaxis\":{\"automargin\":true,\"gridcolor\":\"white\",\"linecolor\":\"white\",\"ticks\":\"\",\"title\":{\"standoff\":15},\"zerolinecolor\":\"white\",\"zerolinewidth\":2},\"yaxis\":{\"automargin\":true,\"gridcolor\":\"white\",\"linecolor\":\"white\",\"ticks\":\"\",\"title\":{\"standoff\":15},\"zerolinecolor\":\"white\",\"zerolinewidth\":2}}},\"xaxis\":{\"anchor\":\"y\",\"domain\":[0.0,1.0],\"title\":{\"text\":\"PCA1\"}},\"yaxis\":{\"anchor\":\"x\",\"domain\":[0.0,1.0],\"title\":{\"text\":\"PCA2\"}},\"legend\":{\"title\":{\"text\":\"Cluster\"},\"tracegroupgap\":0},\"margin\":{\"t\":60},\"plot_bgcolor\":\"rgb(240,240,240)\",\"title\":{\"text\":\"2D Cluster PCA Plot\"},\"height\":600},                        {\"responsive\": true}                    ).then(function(){\n",
       "                            \n",
       "var gd = document.getElementById('a3788d3e-1855-47cf-9e0c-cb53ae59555a');\n",
       "var x = new MutationObserver(function (mutations, observer) {{\n",
       "        var display = window.getComputedStyle(gd).display;\n",
       "        if (!display || display === 'none') {{\n",
       "            console.log([gd, 'removed!']);\n",
       "            Plotly.purge(gd);\n",
       "            observer.disconnect();\n",
       "        }}\n",
       "}});\n",
       "\n",
       "// Listen for the removal of the full notebook cells\n",
       "var notebookContainer = gd.closest('#notebook-container');\n",
       "if (notebookContainer) {{\n",
       "    x.observe(notebookContainer, {childList: true});\n",
       "}}\n",
       "\n",
       "// Listen for the clearing of the current output cell\n",
       "var outputEl = gd.closest('.output');\n",
       "if (outputEl) {{\n",
       "    x.observe(outputEl, {childList: true});\n",
       "}}\n",
       "\n",
       "                        })                };                });            </script>        </div>"
      ]
     },
     "metadata": {},
     "output_type": "display_data"
    }
   ],
   "source": [
    "plot_model(kmeans, plot = 'cluster')"
   ]
  },
  {
   "cell_type": "code",
   "execution_count": 23,
   "id": "2e799f71",
   "metadata": {},
   "outputs": [
    {
     "data": {
      "application/vnd.plotly.v1+json": {
       "config": {
        "plotlyServerURL": "https://plot.ly"
       },
       "data": [
        {
         "customdata": [
          [
           "Kyrgyz Republic"
          ],
          [
           "Indonesia"
          ],
          [
           "India"
          ],
          [
           "Russia"
          ],
          [
           "Hungary"
          ],
          [
           "Guyana"
          ],
          [
           "Samoa"
          ],
          [
           "Saudi Arabia"
          ],
          [
           "Guatemala"
          ],
          [
           "Grenada"
          ],
          [
           "Serbia"
          ],
          [
           "Seychelles"
          ],
          [
           "Georgia"
          ],
          [
           "Slovak Republic"
          ],
          [
           "Solomon Islands"
          ],
          [
           "Fiji"
          ],
          [
           "Estonia"
          ],
          [
           "Mauritius"
          ],
          [
           "Sri Lanka"
          ],
          [
           "El Salvador"
          ],
          [
           "Iran"
          ],
          [
           "Romania"
          ],
          [
           "Poland"
          ],
          [
           "Philippines"
          ],
          [
           "Moldova"
          ],
          [
           "Mongolia"
          ],
          [
           "Montenegro"
          ],
          [
           "Maldives"
          ],
          [
           "Malaysia"
          ],
          [
           "Morocco"
          ],
          [
           "Macedonia, FYR"
          ],
          [
           "Myanmar"
          ],
          [
           "Lithuania"
          ],
          [
           "Egypt"
          ],
          [
           "Libya"
          ],
          [
           "Lebanon"
          ],
          [
           "Latvia"
          ],
          [
           "Oman"
          ],
          [
           "Panama"
          ],
          [
           "Kazakhstan"
          ],
          [
           "Jordan"
          ],
          [
           "Paraguay"
          ],
          [
           "Jamaica"
          ],
          [
           "Peru"
          ],
          [
           "Nepal"
          ],
          [
           "Ecuador"
          ],
          [
           "South Korea"
          ],
          [
           "St. Vincent and the Grenadines"
          ],
          [
           "Dominican Republic"
          ],
          [
           "Bosnia and Herzegovina"
          ],
          [
           "Bolivia"
          ],
          [
           "Bhutan"
          ],
          [
           "Uruguay"
          ],
          [
           "Belize"
          ],
          [
           "Uzbekistan"
          ],
          [
           "Belarus"
          ],
          [
           "Barbados"
          ],
          [
           "Bangladesh"
          ],
          [
           "Bahrain"
          ],
          [
           "Bahamas"
          ],
          [
           "Azerbaijan"
          ],
          [
           "Vanuatu"
          ],
          [
           "Venezuela"
          ],
          [
           "Armenia"
          ],
          [
           "Argentina"
          ],
          [
           "Antigua and Barbuda"
          ],
          [
           "Vietnam"
          ],
          [
           "Algeria"
          ],
          [
           "Albania"
          ],
          [
           "Brazil"
          ],
          [
           "Bulgaria"
          ],
          [
           "Ukraine"
          ],
          [
           "China"
          ],
          [
           "Czech Republic"
          ],
          [
           "Croatia"
          ],
          [
           "Suriname"
          ],
          [
           "Costa Rica"
          ],
          [
           "Tajikistan"
          ],
          [
           "Thailand"
          ],
          [
           "Colombia"
          ],
          [
           "Turkmenistan"
          ],
          [
           "Chile"
          ],
          [
           "Micronesia, Fed. Sts."
          ],
          [
           "Tonga"
          ],
          [
           "Turkey"
          ],
          [
           "Cambodia"
          ],
          [
           "Tunisia"
          ],
          [
           "Cape Verde"
          ]
         ],
         "hovertemplate": "Cluster=Cluster 0<br>0=%{x}<br>1=%{y}<br>2=%{z}<br>Feature=%{customdata[0]}<extra></extra>",
         "legendgroup": "Cluster 0",
         "marker": {
          "color": "#636efa",
          "opacity": 0.7,
          "symbol": "circle"
         },
         "mode": "markers",
         "name": "Cluster 0",
         "scene": "scene",
         "showlegend": true,
         "type": "scatter3d",
         "x": [
          -23.50061798095703,
          -96.01358795166016,
          21.755910873413086,
          60.108524322509766,
          -70.7567138671875,
          -25.501365661621094,
          1.1746572256088257,
          108.11441802978516,
          84.83680725097656,
          -4.890828609466553,
          162.64646911621094,
          -161.88900756835938,
          -19.71706199645996,
          -44.138206481933594,
          -12.743539810180664,
          133.08340454101562,
          -65.43656158447266,
          29.671842575073242,
          110.1070556640625,
          -81.42200469970703,
          -129.0447235107422,
          -146.0655517578125,
          129.4366455078125,
          133.19247436523438,
          -21.004140853881836,
          117.23492431640625,
          9.689579963684082,
          -54.356231689453125,
          -28.058578491210938,
          26.042734146118164,
          -71.88665008544922,
          85.2209701538086,
          -95.7235107421875,
          98.94768524169922,
          65.96693420410156,
          -106.54010009765625,
          -110.961181640625,
          76.85137939453125,
          -84.77755737304688,
          130.5735626220703,
          -49.86602020263672,
          84.90861511230469,
          5.589732646942139,
          54.668663024902344,
          125.6961669921875,
          30.65331268310547,
          -96.29420471191406,
          -3.5690557956695557,
          37.64651870727539,
          7.276824951171875,
          101.05476379394531,
          0.7849366068840027,
          -3.0274431705474854,
          -33.9251708984375,
          83.58118438720703,
          -43.094032287597656,
          -68.9698257446289,
          90.44911193847656,
          -36.30928039550781,
          -54.40729522705078,
          82.3817138671875,
          7.5359673500061035,
          66.01457977294922,
          34.98021697998047,
          22.797014236450195,
          -73.23467254638672,
          -68.07393646240234,
          84.85479736328125,
          -40.82712173461914,
          -2.0317482948303223,
          -113.73165130615234,
          -33.41584396362305,
          -84.9644775390625,
          -83.2485580444336,
          -5.353686332702637,
          58.69764709472656,
          17.03847885131836,
          -113.18623352050781,
          -84.9215316772461,
          10.703023910522461,
          -56.21173858642578,
          20.512100219726562,
          115.3048324584961,
          -81.50251007080078,
          34.73908615112305,
          136.54217529296875,
          -30.60102653503418,
          10.185473442077637
         ],
         "y": [
          40.30807876586914,
          -4.401468753814697,
          -34.89426803588867,
          -37.88822937011719,
          70.74860382080078,
          22.060808181762695,
          142.6866912841797,
          44.536643981933594,
          -15.98708724975586,
          -0.8488416075706482,
          7.200989246368408,
          57.407527923583984,
          92.3077621459961,
          85.03766632080078,
          132.04608154296875,
          21.9930362701416,
          39.83685302734375,
          132.378173828125,
          -114.17337799072266,
          75.38899230957031,
          11.500303268432617,
          11.60295295715332,
          -66.40752410888672,
          -21.08755874633789,
          83.66967010498047,
          -16.267269134521484,
          83.79080963134766,
          54.29033279418945,
          50.23208999633789,
          -62.358665466308594,
          -37.43412399291992,
          -120.64004516601562,
          41.000186920166016,
          -68.4084701538086,
          39.719112396240234,
          -19.401050567626953,
          12.32926082611084,
          31.679574966430664,
          97.43721008300781,
          -68.95612335205078,
          133.18701171875,
          112.91710662841797,
          -94.0517578125,
          -87.80606842041016,
          -80.73104858398438,
          -21.29395866394043,
          -34.30699157714844,
          -80.67838287353516,
          -52.671539306640625,
          -98.1080322265625,
          -37.51504135131836,
          50.047157287597656,
          8.039679527282715,
          88.30874633789062,
          -48.09260940551758,
          -2.62632155418396,
          -59.97954177856445,
          -111.83788299560547,
          7.309561729431152,
          -100.79177856445312,
          0.3714090585708618,
          74.02825927734375,
          -52.322532653808594,
          -95.72147369384766,
          12.80124568939209,
          -1.2548086643218994,
          29.783344268798828,
          -78.87702941894531,
          -67.10713195800781,
          -25.377826690673828,
          52.22061538696289,
          -20.478641510009766,
          147.5120849609375,
          24.584871292114258,
          -24.099021911621094,
          15.143481254577637,
          64.23343658447266,
          86.73697662353516,
          78.40734100341797,
          -60.242427825927734,
          119.49394226074219,
          18.043272018432617,
          123.92361450195312,
          57.802528381347656,
          -12.66706371307373,
          -13.297056198120117,
          -36.72176742553711,
          -44.051631927490234
         ],
         "z": [
          -50.361881256103516,
          -121.5489273071289,
          151.92967224121094,
          35.61170196533203,
          45.05738830566406,
          -83.18891143798828,
          38.950138092041016,
          91.44096374511719,
          -13.528067588806152,
          -10.080504417419434,
          74.7093734741211,
          19.743350982666016,
          90.1566162109375,
          18.06633949279785,
          -9.861856460571289,
          -30.72972297668457,
          20.621185302734375,
          -134.07664489746094,
          36.04589080810547,
          93.91533660888672,
          -76.6701431274414,
          -19.0894775390625,
          88.30829620361328,
          8.076489448547363,
          -90.10469818115234,
          70.98828125,
          53.20600509643555,
          -13.451478958129883,
          40.08099365234375,
          -4.069025039672852,
          -35.981163024902344,
          -68.26803588867188,
          -9.509819984436035,
          -7.020573139190674,
          65.42540740966797,
          -22.735563278198242,
          19.746410369873047,
          99.57303619384766,
          13.35832691192627,
          34.87424850463867,
          34.808799743652344,
          -45.128700256347656,
          -64.69713592529297,
          62.197940826416016,
          -38.51856231689453,
          6.640096187591553,
          27.691524505615234,
          -27.565200805664062,
          73.96746063232422,
          85.62673950195312,
          20.27695083618164,
          -5.243464946746826,
          71.35010528564453,
          -33.806396484375,
          84.79167175292969,
          -35.066184997558594,
          0.34268680214881897,
          -24.09552001953125,
          36.15142059326172,
          -9.452048301696777,
          41.636802673339844,
          -46.82554244995117,
          -38.416656494140625,
          -38.96593475341797,
          35.078025817871094,
          -1.3618295192718506,
          -51.63249588012695,
          31.430152893066406,
          -48.07501983642578,
          47.01034164428711,
          27.45076560974121,
          -64.53270721435547,
          -22.6015682220459,
          56.761837005615234,
          100.09575653076172,
          6.61449670791626,
          104.86583709716797,
          -91.77438354492188,
          -35.327388763427734,
          42.37955093383789,
          -66.15502166748047,
          99.37120056152344,
          2.015267848968506,
          -96.94944763183594,
          71.40644073486328,
          -49.33673095703125,
          -4.353026390075684,
          -45.32313537597656
         ]
        },
        {
         "customdata": [
          [
           "Sudan"
          ],
          [
           "Rwanda"
          ],
          [
           "South Africa"
          ],
          [
           "Mozambique"
          ],
          [
           "Nigeria"
          ],
          [
           "Tanzania"
          ],
          [
           "Sierra Leone"
          ],
          [
           "Namibia"
          ],
          [
           "Togo"
          ],
          [
           "Timor-Leste"
          ],
          [
           "Senegal"
          ],
          [
           "Niger"
          ],
          [
           "Pakistan"
          ],
          [
           "Uganda"
          ],
          [
           "Afghanistan"
          ],
          [
           "Gabon"
          ],
          [
           "Guinea"
          ],
          [
           "Ghana"
          ],
          [
           "Gambia"
          ],
          [
           "Mauritania"
          ],
          [
           "Eritrea"
          ],
          [
           "Equatorial Guinea"
          ],
          [
           "Cote d'Ivoire"
          ],
          [
           "Congo, Rep."
          ],
          [
           "Guinea-Bissau"
          ],
          [
           "Congo, Dem. Rep."
          ],
          [
           "Chad"
          ],
          [
           "Central African Republic"
          ],
          [
           "Cameroon"
          ],
          [
           "Burundi"
          ],
          [
           "Burkina Faso"
          ],
          [
           "Botswana"
          ],
          [
           "Benin"
          ],
          [
           "Angola"
          ],
          [
           "Comoros"
          ],
          [
           "Haiti"
          ],
          [
           "Zambia"
          ],
          [
           "Iraq"
          ],
          [
           "Mali"
          ],
          [
           "Lao"
          ],
          [
           "Malawi"
          ],
          [
           "Kiribati"
          ],
          [
           "Kenya"
          ],
          [
           "Madagascar"
          ],
          [
           "Yemen"
          ],
          [
           "Liberia"
          ],
          [
           "Lesotho"
          ]
         ],
         "hovertemplate": "Cluster=Cluster 1<br>0=%{x}<br>1=%{y}<br>2=%{z}<br>Feature=%{customdata[0]}<extra></extra>",
         "legendgroup": "Cluster 1",
         "marker": {
          "color": "#EF553B",
          "opacity": 0.7,
          "symbol": "circle"
         },
         "mode": "markers",
         "name": "Cluster 1",
         "scene": "scene",
         "showlegend": true,
         "type": "scatter3d",
         "x": [
          86.7249984741211,
          9.926312446594238,
          -41.25649642944336,
          17.07759666442871,
          88.08369445800781,
          30.81134033203125,
          122.95574188232422,
          -34.08656692504883,
          55.18259048461914,
          123.43280029296875,
          -140.02178955078125,
          2.9707043170928955,
          101.6325454711914,
          80.4234848022461,
          40.84097671508789,
          124.98631286621094,
          71.28252410888672,
          -7.357874393463135,
          84.07125091552734,
          41.17580032348633,
          109.6846694946289,
          83.92640686035156,
          33.74977111816406,
          72.4697265625,
          -136.6122283935547,
          111.28910064697266,
          33.51791000366211,
          118.31620025634766,
          37.820430755615234,
          81.21404266357422,
          57.223148345947266,
          0.05702373385429382,
          12.833168029785156,
          74.96045684814453,
          52.70817947387695,
          -42.961219787597656,
          73.68942260742188,
          47.78145217895508,
          18.21999168395996,
          29.26896095275879,
          56.615936279296875,
          -34.820068359375,
          73.21092224121094,
          43.32501220703125,
          58.201942443847656,
          74.12516784667969,
          -23.204133987426758
         ],
         "y": [
          -35.299922943115234,
          75.16768646240234,
          4.007342338562012,
          -156.8961181640625,
          -35.379608154296875,
          33.9079475402832,
          91.05642700195312,
          44.02778625488281,
          71.5749282836914,
          -13.80040454864502,
          41.0745735168457,
          138.26113891601562,
          59.575870513916016,
          61.18844223022461,
          74.35321044921875,
          36.82984161376953,
          11.88880729675293,
          34.808815002441406,
          25.616914749145508,
          -6.578274726867676,
          -78.85957336425781,
          98.36542510986328,
          -5.395037651062012,
          131.28463745117188,
          108.71712493896484,
          39.546329498291016,
          114.87840270996094,
          73.7442626953125,
          110.36164855957031,
          98.10140991210938,
          -148.5664520263672,
          -130.78367614746094,
          -29.105863571166992,
          93.8099594116211,
          67.90690612792969,
          110.13233184814453,
          17.48550796508789,
          -61.597923278808594,
          20.878562927246094,
          28.8179874420166,
          49.66666793823242,
          -94.29147338867188,
          37.217735290527344,
          -120.41133117675781,
          160.6294403076172,
          144.2047576904297,
          153.80435180664062
         ],
         "z": [
          -123.99700164794922,
          -146.46348571777344,
          -154.1355743408203,
          36.823524475097656,
          -68.34893798828125,
          -100.45941162109375,
          -112.8709945678711,
          -123.0809555053711,
          -62.78447341918945,
          -112.65450286865234,
          90.04872131347656,
          -62.68361282348633,
          -0.49824151396751404,
          -102.45201110839844,
          -107.38875579833984,
          35.32863235473633,
          -110.7699203491211,
          147.95993041992188,
          -70.20143127441406,
          -71.90373992919922,
          -95.07534790039062,
          47.556610107421875,
          -124.96675109863281,
          73.77899932861328,
          -32.301734924316406,
          -127.98188018798828,
          -82.97276306152344,
          -58.35102844238281,
          -29.08881378173828,
          -120.18108367919922,
          67.9018325805664,
          129.7814483642578,
          -155.41015625,
          88.59703826904297,
          -9.365784645080566,
          -138.99285888671875,
          -154.95989990234375,
          -104.39937591552734,
          -163.7616424560547,
          -43.25211715698242,
          -138.04029846191406,
          -125.03404998779297,
          -32.49095153808594,
          8.294732093811035,
          -62.47776794433594,
          4.047488212585449,
          -110.04359436035156
         ]
        },
        {
         "customdata": [
          [
           "New Zealand"
          ],
          [
           "Netherlands"
          ],
          [
           "Canada"
          ],
          [
           "Iceland"
          ],
          [
           "United Kingdom"
          ],
          [
           "United States"
          ],
          [
           "Belgium"
          ],
          [
           "Austria"
          ],
          [
           "Australia"
          ],
          [
           "United Arab Emirates"
          ],
          [
           "Brunei"
          ],
          [
           "Switzerland"
          ],
          [
           "Sweden"
          ],
          [
           "Qatar"
          ],
          [
           "Portugal"
          ],
          [
           "Ireland"
          ],
          [
           "Greece"
          ],
          [
           "Israel"
          ],
          [
           "Germany"
          ],
          [
           "Italy"
          ],
          [
           "Norway"
          ],
          [
           "Japan"
          ],
          [
           "France"
          ],
          [
           "Finland"
          ],
          [
           "Spain"
          ],
          [
           "Denmark"
          ],
          [
           "Cyprus"
          ],
          [
           "Kuwait"
          ],
          [
           "Slovenia"
          ]
         ],
         "hovertemplate": "Cluster=Cluster 2<br>0=%{x}<br>1=%{y}<br>2=%{z}<br>Feature=%{customdata[0]}<extra></extra>",
         "legendgroup": "Cluster 2",
         "marker": {
          "color": "#00cc96",
          "opacity": 0.7,
          "symbol": "circle"
         },
         "mode": "markers",
         "name": "Cluster 2",
         "scene": "scene",
         "showlegend": true,
         "type": "scatter3d",
         "x": [
          -75.19296264648438,
          -55.86650466918945,
          -51.06883239746094,
          -82.50234985351562,
          -46.976871490478516,
          -97.3331527709961,
          -32.71120834350586,
          -77.12232208251953,
          -118.00440979003906,
          63.69672775268555,
          9.730083465576172,
          -102.7138442993164,
          -105.16102600097656,
          -134.94956970214844,
          -23.714536666870117,
          -132.4064483642578,
          -59.32988357543945,
          -52.98405075073242,
          -88.76360321044922,
          169.85568237304688,
          -125.73346710205078,
          -116.51194763183594,
          -21.30614471435547,
          -76.14911651611328,
          -88.58882141113281,
          -55.28530502319336,
          -68.70450592041016,
          105.2574234008789,
          -94.03814697265625
         ],
         "y": [
          -132.21730041503906,
          -23.548168182373047,
          -69.14061737060547,
          -23.401947021484375,
          -102.41634368896484,
          -148.80184936523438,
          -57.46467971801758,
          -60.809776306152344,
          -104.81682586669922,
          5.033268928527832,
          -160.77784729003906,
          -18.139928817749023,
          -57.69120788574219,
          -79.548583984375,
          -109.4562759399414,
          -16.03606414794922,
          -126.70046997070312,
          23.02281379699707,
          -76.18891143798828,
          65.68421173095703,
          -57.5640869140625,
          -118.92013549804688,
          -48.45673370361328,
          -96.072998046875,
          -98.13027954101562,
          -54.89966583251953,
          -17.149364471435547,
          5.874361515045166,
          -49.63252258300781
         ],
         "z": [
          75.1892318725586,
          131.96664428710938,
          52.265708923339844,
          89.84039306640625,
          77.95899963378906,
          4.292627334594727,
          136.35397338867188,
          131.7217559814453,
          96.16633605957031,
          135.08912658691406,
          -29.41295051574707,
          134.21922302246094,
          98.93077850341797,
          -49.73935317993164,
          35.858463287353516,
          69.63078308105469,
          35.96887969970703,
          105.58299255371094,
          66.7696304321289,
          -8.517794609069824,
          141.1785125732422,
          54.81621551513672,
          -103.728515625,
          108.06375122070312,
          27.973466873168945,
          94.79737091064453,
          45.35630416870117,
          132.59402465820312,
          -80.41967010498047
         ]
        },
        {
         "customdata": [
          [
           "Singapore"
          ],
          [
           "Luxembourg"
          ],
          [
           "Malta"
          ]
         ],
         "hovertemplate": "Cluster=Cluster 3<br>0=%{x}<br>1=%{y}<br>2=%{z}<br>Feature=%{customdata[0]}<extra></extra>",
         "legendgroup": "Cluster 3",
         "marker": {
          "color": "#ab63fa",
          "opacity": 0.7,
          "symbol": "circle"
         },
         "mode": "markers",
         "name": "Cluster 3",
         "scene": "scene",
         "showlegend": true,
         "type": "scatter3d",
         "x": [
          -167.52455139160156,
          -167.88070678710938,
          -155.92001342773438
         ],
         "y": [
          -63.66191101074219,
          -49.62430191040039,
          -37.43134689331055
         ],
         "z": [
          35.17123794555664,
          67.35417938232422,
          11.788299560546875
         ]
        }
       ],
       "layout": {
        "height": 800,
        "legend": {
         "title": {
          "text": "Cluster"
         },
         "tracegroupgap": 0
        },
        "scene": {
         "domain": {
          "x": [
           0,
           1
          ],
          "y": [
           0,
           1
          ]
         },
         "xaxis": {
          "title": {
           "text": "0"
          }
         },
         "yaxis": {
          "title": {
           "text": "1"
          }
         },
         "zaxis": {
          "title": {
           "text": "2"
          }
         }
        },
        "template": {
         "data": {
          "bar": [
           {
            "error_x": {
             "color": "#2a3f5f"
            },
            "error_y": {
             "color": "#2a3f5f"
            },
            "marker": {
             "line": {
              "color": "#E5ECF6",
              "width": 0.5
             },
             "pattern": {
              "fillmode": "overlay",
              "size": 10,
              "solidity": 0.2
             }
            },
            "type": "bar"
           }
          ],
          "barpolar": [
           {
            "marker": {
             "line": {
              "color": "#E5ECF6",
              "width": 0.5
             },
             "pattern": {
              "fillmode": "overlay",
              "size": 10,
              "solidity": 0.2
             }
            },
            "type": "barpolar"
           }
          ],
          "carpet": [
           {
            "aaxis": {
             "endlinecolor": "#2a3f5f",
             "gridcolor": "white",
             "linecolor": "white",
             "minorgridcolor": "white",
             "startlinecolor": "#2a3f5f"
            },
            "baxis": {
             "endlinecolor": "#2a3f5f",
             "gridcolor": "white",
             "linecolor": "white",
             "minorgridcolor": "white",
             "startlinecolor": "#2a3f5f"
            },
            "type": "carpet"
           }
          ],
          "choropleth": [
           {
            "colorbar": {
             "outlinewidth": 0,
             "ticks": ""
            },
            "type": "choropleth"
           }
          ],
          "contour": [
           {
            "colorbar": {
             "outlinewidth": 0,
             "ticks": ""
            },
            "colorscale": [
             [
              0,
              "#0d0887"
             ],
             [
              0.1111111111111111,
              "#46039f"
             ],
             [
              0.2222222222222222,
              "#7201a8"
             ],
             [
              0.3333333333333333,
              "#9c179e"
             ],
             [
              0.4444444444444444,
              "#bd3786"
             ],
             [
              0.5555555555555556,
              "#d8576b"
             ],
             [
              0.6666666666666666,
              "#ed7953"
             ],
             [
              0.7777777777777778,
              "#fb9f3a"
             ],
             [
              0.8888888888888888,
              "#fdca26"
             ],
             [
              1,
              "#f0f921"
             ]
            ],
            "type": "contour"
           }
          ],
          "contourcarpet": [
           {
            "colorbar": {
             "outlinewidth": 0,
             "ticks": ""
            },
            "type": "contourcarpet"
           }
          ],
          "heatmap": [
           {
            "colorbar": {
             "outlinewidth": 0,
             "ticks": ""
            },
            "colorscale": [
             [
              0,
              "#0d0887"
             ],
             [
              0.1111111111111111,
              "#46039f"
             ],
             [
              0.2222222222222222,
              "#7201a8"
             ],
             [
              0.3333333333333333,
              "#9c179e"
             ],
             [
              0.4444444444444444,
              "#bd3786"
             ],
             [
              0.5555555555555556,
              "#d8576b"
             ],
             [
              0.6666666666666666,
              "#ed7953"
             ],
             [
              0.7777777777777778,
              "#fb9f3a"
             ],
             [
              0.8888888888888888,
              "#fdca26"
             ],
             [
              1,
              "#f0f921"
             ]
            ],
            "type": "heatmap"
           }
          ],
          "heatmapgl": [
           {
            "colorbar": {
             "outlinewidth": 0,
             "ticks": ""
            },
            "colorscale": [
             [
              0,
              "#0d0887"
             ],
             [
              0.1111111111111111,
              "#46039f"
             ],
             [
              0.2222222222222222,
              "#7201a8"
             ],
             [
              0.3333333333333333,
              "#9c179e"
             ],
             [
              0.4444444444444444,
              "#bd3786"
             ],
             [
              0.5555555555555556,
              "#d8576b"
             ],
             [
              0.6666666666666666,
              "#ed7953"
             ],
             [
              0.7777777777777778,
              "#fb9f3a"
             ],
             [
              0.8888888888888888,
              "#fdca26"
             ],
             [
              1,
              "#f0f921"
             ]
            ],
            "type": "heatmapgl"
           }
          ],
          "histogram": [
           {
            "marker": {
             "pattern": {
              "fillmode": "overlay",
              "size": 10,
              "solidity": 0.2
             }
            },
            "type": "histogram"
           }
          ],
          "histogram2d": [
           {
            "colorbar": {
             "outlinewidth": 0,
             "ticks": ""
            },
            "colorscale": [
             [
              0,
              "#0d0887"
             ],
             [
              0.1111111111111111,
              "#46039f"
             ],
             [
              0.2222222222222222,
              "#7201a8"
             ],
             [
              0.3333333333333333,
              "#9c179e"
             ],
             [
              0.4444444444444444,
              "#bd3786"
             ],
             [
              0.5555555555555556,
              "#d8576b"
             ],
             [
              0.6666666666666666,
              "#ed7953"
             ],
             [
              0.7777777777777778,
              "#fb9f3a"
             ],
             [
              0.8888888888888888,
              "#fdca26"
             ],
             [
              1,
              "#f0f921"
             ]
            ],
            "type": "histogram2d"
           }
          ],
          "histogram2dcontour": [
           {
            "colorbar": {
             "outlinewidth": 0,
             "ticks": ""
            },
            "colorscale": [
             [
              0,
              "#0d0887"
             ],
             [
              0.1111111111111111,
              "#46039f"
             ],
             [
              0.2222222222222222,
              "#7201a8"
             ],
             [
              0.3333333333333333,
              "#9c179e"
             ],
             [
              0.4444444444444444,
              "#bd3786"
             ],
             [
              0.5555555555555556,
              "#d8576b"
             ],
             [
              0.6666666666666666,
              "#ed7953"
             ],
             [
              0.7777777777777778,
              "#fb9f3a"
             ],
             [
              0.8888888888888888,
              "#fdca26"
             ],
             [
              1,
              "#f0f921"
             ]
            ],
            "type": "histogram2dcontour"
           }
          ],
          "mesh3d": [
           {
            "colorbar": {
             "outlinewidth": 0,
             "ticks": ""
            },
            "type": "mesh3d"
           }
          ],
          "parcoords": [
           {
            "line": {
             "colorbar": {
              "outlinewidth": 0,
              "ticks": ""
             }
            },
            "type": "parcoords"
           }
          ],
          "pie": [
           {
            "automargin": true,
            "type": "pie"
           }
          ],
          "scatter": [
           {
            "marker": {
             "colorbar": {
              "outlinewidth": 0,
              "ticks": ""
             }
            },
            "type": "scatter"
           }
          ],
          "scatter3d": [
           {
            "line": {
             "colorbar": {
              "outlinewidth": 0,
              "ticks": ""
             }
            },
            "marker": {
             "colorbar": {
              "outlinewidth": 0,
              "ticks": ""
             }
            },
            "type": "scatter3d"
           }
          ],
          "scattercarpet": [
           {
            "marker": {
             "colorbar": {
              "outlinewidth": 0,
              "ticks": ""
             }
            },
            "type": "scattercarpet"
           }
          ],
          "scattergeo": [
           {
            "marker": {
             "colorbar": {
              "outlinewidth": 0,
              "ticks": ""
             }
            },
            "type": "scattergeo"
           }
          ],
          "scattergl": [
           {
            "marker": {
             "colorbar": {
              "outlinewidth": 0,
              "ticks": ""
             }
            },
            "type": "scattergl"
           }
          ],
          "scattermapbox": [
           {
            "marker": {
             "colorbar": {
              "outlinewidth": 0,
              "ticks": ""
             }
            },
            "type": "scattermapbox"
           }
          ],
          "scatterpolar": [
           {
            "marker": {
             "colorbar": {
              "outlinewidth": 0,
              "ticks": ""
             }
            },
            "type": "scatterpolar"
           }
          ],
          "scatterpolargl": [
           {
            "marker": {
             "colorbar": {
              "outlinewidth": 0,
              "ticks": ""
             }
            },
            "type": "scatterpolargl"
           }
          ],
          "scatterternary": [
           {
            "marker": {
             "colorbar": {
              "outlinewidth": 0,
              "ticks": ""
             }
            },
            "type": "scatterternary"
           }
          ],
          "surface": [
           {
            "colorbar": {
             "outlinewidth": 0,
             "ticks": ""
            },
            "colorscale": [
             [
              0,
              "#0d0887"
             ],
             [
              0.1111111111111111,
              "#46039f"
             ],
             [
              0.2222222222222222,
              "#7201a8"
             ],
             [
              0.3333333333333333,
              "#9c179e"
             ],
             [
              0.4444444444444444,
              "#bd3786"
             ],
             [
              0.5555555555555556,
              "#d8576b"
             ],
             [
              0.6666666666666666,
              "#ed7953"
             ],
             [
              0.7777777777777778,
              "#fb9f3a"
             ],
             [
              0.8888888888888888,
              "#fdca26"
             ],
             [
              1,
              "#f0f921"
             ]
            ],
            "type": "surface"
           }
          ],
          "table": [
           {
            "cells": {
             "fill": {
              "color": "#EBF0F8"
             },
             "line": {
              "color": "white"
             }
            },
            "header": {
             "fill": {
              "color": "#C8D4E3"
             },
             "line": {
              "color": "white"
             }
            },
            "type": "table"
           }
          ]
         },
         "layout": {
          "annotationdefaults": {
           "arrowcolor": "#2a3f5f",
           "arrowhead": 0,
           "arrowwidth": 1
          },
          "autotypenumbers": "strict",
          "coloraxis": {
           "colorbar": {
            "outlinewidth": 0,
            "ticks": ""
           }
          },
          "colorscale": {
           "diverging": [
            [
             0,
             "#8e0152"
            ],
            [
             0.1,
             "#c51b7d"
            ],
            [
             0.2,
             "#de77ae"
            ],
            [
             0.3,
             "#f1b6da"
            ],
            [
             0.4,
             "#fde0ef"
            ],
            [
             0.5,
             "#f7f7f7"
            ],
            [
             0.6,
             "#e6f5d0"
            ],
            [
             0.7,
             "#b8e186"
            ],
            [
             0.8,
             "#7fbc41"
            ],
            [
             0.9,
             "#4d9221"
            ],
            [
             1,
             "#276419"
            ]
           ],
           "sequential": [
            [
             0,
             "#0d0887"
            ],
            [
             0.1111111111111111,
             "#46039f"
            ],
            [
             0.2222222222222222,
             "#7201a8"
            ],
            [
             0.3333333333333333,
             "#9c179e"
            ],
            [
             0.4444444444444444,
             "#bd3786"
            ],
            [
             0.5555555555555556,
             "#d8576b"
            ],
            [
             0.6666666666666666,
             "#ed7953"
            ],
            [
             0.7777777777777778,
             "#fb9f3a"
            ],
            [
             0.8888888888888888,
             "#fdca26"
            ],
            [
             1,
             "#f0f921"
            ]
           ],
           "sequentialminus": [
            [
             0,
             "#0d0887"
            ],
            [
             0.1111111111111111,
             "#46039f"
            ],
            [
             0.2222222222222222,
             "#7201a8"
            ],
            [
             0.3333333333333333,
             "#9c179e"
            ],
            [
             0.4444444444444444,
             "#bd3786"
            ],
            [
             0.5555555555555556,
             "#d8576b"
            ],
            [
             0.6666666666666666,
             "#ed7953"
            ],
            [
             0.7777777777777778,
             "#fb9f3a"
            ],
            [
             0.8888888888888888,
             "#fdca26"
            ],
            [
             1,
             "#f0f921"
            ]
           ]
          },
          "colorway": [
           "#636efa",
           "#EF553B",
           "#00cc96",
           "#ab63fa",
           "#FFA15A",
           "#19d3f3",
           "#FF6692",
           "#B6E880",
           "#FF97FF",
           "#FECB52"
          ],
          "font": {
           "color": "#2a3f5f"
          },
          "geo": {
           "bgcolor": "white",
           "lakecolor": "white",
           "landcolor": "#E5ECF6",
           "showlakes": true,
           "showland": true,
           "subunitcolor": "white"
          },
          "hoverlabel": {
           "align": "left"
          },
          "hovermode": "closest",
          "mapbox": {
           "style": "light"
          },
          "paper_bgcolor": "white",
          "plot_bgcolor": "#E5ECF6",
          "polar": {
           "angularaxis": {
            "gridcolor": "white",
            "linecolor": "white",
            "ticks": ""
           },
           "bgcolor": "#E5ECF6",
           "radialaxis": {
            "gridcolor": "white",
            "linecolor": "white",
            "ticks": ""
           }
          },
          "scene": {
           "xaxis": {
            "backgroundcolor": "#E5ECF6",
            "gridcolor": "white",
            "gridwidth": 2,
            "linecolor": "white",
            "showbackground": true,
            "ticks": "",
            "zerolinecolor": "white"
           },
           "yaxis": {
            "backgroundcolor": "#E5ECF6",
            "gridcolor": "white",
            "gridwidth": 2,
            "linecolor": "white",
            "showbackground": true,
            "ticks": "",
            "zerolinecolor": "white"
           },
           "zaxis": {
            "backgroundcolor": "#E5ECF6",
            "gridcolor": "white",
            "gridwidth": 2,
            "linecolor": "white",
            "showbackground": true,
            "ticks": "",
            "zerolinecolor": "white"
           }
          },
          "shapedefaults": {
           "line": {
            "color": "#2a3f5f"
           }
          },
          "ternary": {
           "aaxis": {
            "gridcolor": "white",
            "linecolor": "white",
            "ticks": ""
           },
           "baxis": {
            "gridcolor": "white",
            "linecolor": "white",
            "ticks": ""
           },
           "bgcolor": "#E5ECF6",
           "caxis": {
            "gridcolor": "white",
            "linecolor": "white",
            "ticks": ""
           }
          },
          "title": {
           "x": 0.05
          },
          "xaxis": {
           "automargin": true,
           "gridcolor": "white",
           "linecolor": "white",
           "ticks": "",
           "title": {
            "standoff": 15
           },
           "zerolinecolor": "white",
           "zerolinewidth": 2
          },
          "yaxis": {
           "automargin": true,
           "gridcolor": "white",
           "linecolor": "white",
           "ticks": "",
           "title": {
            "standoff": 15
           },
           "zerolinecolor": "white",
           "zerolinewidth": 2
          }
         }
        },
        "title": {
         "text": "3d TSNE Plot for Clusters"
        },
        "width": 900
       }
      },
      "text/html": [
       "<div>                            <div id=\"1bdd71f0-9246-4e5b-8f5d-7fec6b3ea931\" class=\"plotly-graph-div\" style=\"height:800px; width:900px;\"></div>            <script type=\"text/javascript\">                require([\"plotly\"], function(Plotly) {                    window.PLOTLYENV=window.PLOTLYENV || {};                                    if (document.getElementById(\"1bdd71f0-9246-4e5b-8f5d-7fec6b3ea931\")) {                    Plotly.newPlot(                        \"1bdd71f0-9246-4e5b-8f5d-7fec6b3ea931\",                        [{\"customdata\":[[\"Kyrgyz Republic\"],[\"Indonesia\"],[\"India\"],[\"Russia\"],[\"Hungary\"],[\"Guyana\"],[\"Samoa\"],[\"Saudi Arabia\"],[\"Guatemala\"],[\"Grenada\"],[\"Serbia\"],[\"Seychelles\"],[\"Georgia\"],[\"Slovak Republic\"],[\"Solomon Islands\"],[\"Fiji\"],[\"Estonia\"],[\"Mauritius\"],[\"Sri Lanka\"],[\"El Salvador\"],[\"Iran\"],[\"Romania\"],[\"Poland\"],[\"Philippines\"],[\"Moldova\"],[\"Mongolia\"],[\"Montenegro\"],[\"Maldives\"],[\"Malaysia\"],[\"Morocco\"],[\"Macedonia, FYR\"],[\"Myanmar\"],[\"Lithuania\"],[\"Egypt\"],[\"Libya\"],[\"Lebanon\"],[\"Latvia\"],[\"Oman\"],[\"Panama\"],[\"Kazakhstan\"],[\"Jordan\"],[\"Paraguay\"],[\"Jamaica\"],[\"Peru\"],[\"Nepal\"],[\"Ecuador\"],[\"South Korea\"],[\"St. Vincent and the Grenadines\"],[\"Dominican Republic\"],[\"Bosnia and Herzegovina\"],[\"Bolivia\"],[\"Bhutan\"],[\"Uruguay\"],[\"Belize\"],[\"Uzbekistan\"],[\"Belarus\"],[\"Barbados\"],[\"Bangladesh\"],[\"Bahrain\"],[\"Bahamas\"],[\"Azerbaijan\"],[\"Vanuatu\"],[\"Venezuela\"],[\"Armenia\"],[\"Argentina\"],[\"Antigua and Barbuda\"],[\"Vietnam\"],[\"Algeria\"],[\"Albania\"],[\"Brazil\"],[\"Bulgaria\"],[\"Ukraine\"],[\"China\"],[\"Czech Republic\"],[\"Croatia\"],[\"Suriname\"],[\"Costa Rica\"],[\"Tajikistan\"],[\"Thailand\"],[\"Colombia\"],[\"Turkmenistan\"],[\"Chile\"],[\"Micronesia, Fed. Sts.\"],[\"Tonga\"],[\"Turkey\"],[\"Cambodia\"],[\"Tunisia\"],[\"Cape Verde\"]],\"hovertemplate\":\"Cluster=Cluster 0<br>0=%{x}<br>1=%{y}<br>2=%{z}<br>Feature=%{customdata[0]}<extra></extra>\",\"legendgroup\":\"Cluster 0\",\"marker\":{\"color\":\"#636efa\",\"opacity\":0.7,\"symbol\":\"circle\"},\"mode\":\"markers\",\"name\":\"Cluster 0\",\"scene\":\"scene\",\"showlegend\":true,\"x\":[-23.50061798095703,-96.01358795166016,21.755910873413086,60.108524322509766,-70.7567138671875,-25.501365661621094,1.1746572256088257,108.11441802978516,84.83680725097656,-4.890828609466553,162.64646911621094,-161.88900756835938,-19.71706199645996,-44.138206481933594,-12.743539810180664,133.08340454101562,-65.43656158447266,29.671842575073242,110.1070556640625,-81.42200469970703,-129.0447235107422,-146.0655517578125,129.4366455078125,133.19247436523438,-21.004140853881836,117.23492431640625,9.689579963684082,-54.356231689453125,-28.058578491210938,26.042734146118164,-71.88665008544922,85.2209701538086,-95.7235107421875,98.94768524169922,65.96693420410156,-106.54010009765625,-110.961181640625,76.85137939453125,-84.77755737304688,130.5735626220703,-49.86602020263672,84.90861511230469,5.589732646942139,54.668663024902344,125.6961669921875,30.65331268310547,-96.29420471191406,-3.5690557956695557,37.64651870727539,7.276824951171875,101.05476379394531,0.7849366068840027,-3.0274431705474854,-33.9251708984375,83.58118438720703,-43.094032287597656,-68.9698257446289,90.44911193847656,-36.30928039550781,-54.40729522705078,82.3817138671875,7.5359673500061035,66.01457977294922,34.98021697998047,22.797014236450195,-73.23467254638672,-68.07393646240234,84.85479736328125,-40.82712173461914,-2.0317482948303223,-113.73165130615234,-33.41584396362305,-84.9644775390625,-83.2485580444336,-5.353686332702637,58.69764709472656,17.03847885131836,-113.18623352050781,-84.9215316772461,10.703023910522461,-56.21173858642578,20.512100219726562,115.3048324584961,-81.50251007080078,34.73908615112305,136.54217529296875,-30.60102653503418,10.185473442077637],\"y\":[40.30807876586914,-4.401468753814697,-34.89426803588867,-37.88822937011719,70.74860382080078,22.060808181762695,142.6866912841797,44.536643981933594,-15.98708724975586,-0.8488416075706482,7.200989246368408,57.407527923583984,92.3077621459961,85.03766632080078,132.04608154296875,21.9930362701416,39.83685302734375,132.378173828125,-114.17337799072266,75.38899230957031,11.500303268432617,11.60295295715332,-66.40752410888672,-21.08755874633789,83.66967010498047,-16.267269134521484,83.79080963134766,54.29033279418945,50.23208999633789,-62.358665466308594,-37.43412399291992,-120.64004516601562,41.000186920166016,-68.4084701538086,39.719112396240234,-19.401050567626953,12.32926082611084,31.679574966430664,97.43721008300781,-68.95612335205078,133.18701171875,112.91710662841797,-94.0517578125,-87.80606842041016,-80.73104858398438,-21.29395866394043,-34.30699157714844,-80.67838287353516,-52.671539306640625,-98.1080322265625,-37.51504135131836,50.047157287597656,8.039679527282715,88.30874633789062,-48.09260940551758,-2.62632155418396,-59.97954177856445,-111.83788299560547,7.309561729431152,-100.79177856445312,0.3714090585708618,74.02825927734375,-52.322532653808594,-95.72147369384766,12.80124568939209,-1.2548086643218994,29.783344268798828,-78.87702941894531,-67.10713195800781,-25.377826690673828,52.22061538696289,-20.478641510009766,147.5120849609375,24.584871292114258,-24.099021911621094,15.143481254577637,64.23343658447266,86.73697662353516,78.40734100341797,-60.242427825927734,119.49394226074219,18.043272018432617,123.92361450195312,57.802528381347656,-12.66706371307373,-13.297056198120117,-36.72176742553711,-44.051631927490234],\"z\":[-50.361881256103516,-121.5489273071289,151.92967224121094,35.61170196533203,45.05738830566406,-83.18891143798828,38.950138092041016,91.44096374511719,-13.528067588806152,-10.080504417419434,74.7093734741211,19.743350982666016,90.1566162109375,18.06633949279785,-9.861856460571289,-30.72972297668457,20.621185302734375,-134.07664489746094,36.04589080810547,93.91533660888672,-76.6701431274414,-19.0894775390625,88.30829620361328,8.076489448547363,-90.10469818115234,70.98828125,53.20600509643555,-13.451478958129883,40.08099365234375,-4.069025039672852,-35.981163024902344,-68.26803588867188,-9.509819984436035,-7.020573139190674,65.42540740966797,-22.735563278198242,19.746410369873047,99.57303619384766,13.35832691192627,34.87424850463867,34.808799743652344,-45.128700256347656,-64.69713592529297,62.197940826416016,-38.51856231689453,6.640096187591553,27.691524505615234,-27.565200805664062,73.96746063232422,85.62673950195312,20.27695083618164,-5.243464946746826,71.35010528564453,-33.806396484375,84.79167175292969,-35.066184997558594,0.34268680214881897,-24.09552001953125,36.15142059326172,-9.452048301696777,41.636802673339844,-46.82554244995117,-38.416656494140625,-38.96593475341797,35.078025817871094,-1.3618295192718506,-51.63249588012695,31.430152893066406,-48.07501983642578,47.01034164428711,27.45076560974121,-64.53270721435547,-22.6015682220459,56.761837005615234,100.09575653076172,6.61449670791626,104.86583709716797,-91.77438354492188,-35.327388763427734,42.37955093383789,-66.15502166748047,99.37120056152344,2.015267848968506,-96.94944763183594,71.40644073486328,-49.33673095703125,-4.353026390075684,-45.32313537597656],\"type\":\"scatter3d\"},{\"customdata\":[[\"Sudan\"],[\"Rwanda\"],[\"South Africa\"],[\"Mozambique\"],[\"Nigeria\"],[\"Tanzania\"],[\"Sierra Leone\"],[\"Namibia\"],[\"Togo\"],[\"Timor-Leste\"],[\"Senegal\"],[\"Niger\"],[\"Pakistan\"],[\"Uganda\"],[\"Afghanistan\"],[\"Gabon\"],[\"Guinea\"],[\"Ghana\"],[\"Gambia\"],[\"Mauritania\"],[\"Eritrea\"],[\"Equatorial Guinea\"],[\"Cote d'Ivoire\"],[\"Congo, Rep.\"],[\"Guinea-Bissau\"],[\"Congo, Dem. Rep.\"],[\"Chad\"],[\"Central African Republic\"],[\"Cameroon\"],[\"Burundi\"],[\"Burkina Faso\"],[\"Botswana\"],[\"Benin\"],[\"Angola\"],[\"Comoros\"],[\"Haiti\"],[\"Zambia\"],[\"Iraq\"],[\"Mali\"],[\"Lao\"],[\"Malawi\"],[\"Kiribati\"],[\"Kenya\"],[\"Madagascar\"],[\"Yemen\"],[\"Liberia\"],[\"Lesotho\"]],\"hovertemplate\":\"Cluster=Cluster 1<br>0=%{x}<br>1=%{y}<br>2=%{z}<br>Feature=%{customdata[0]}<extra></extra>\",\"legendgroup\":\"Cluster 1\",\"marker\":{\"color\":\"#EF553B\",\"opacity\":0.7,\"symbol\":\"circle\"},\"mode\":\"markers\",\"name\":\"Cluster 1\",\"scene\":\"scene\",\"showlegend\":true,\"x\":[86.7249984741211,9.926312446594238,-41.25649642944336,17.07759666442871,88.08369445800781,30.81134033203125,122.95574188232422,-34.08656692504883,55.18259048461914,123.43280029296875,-140.02178955078125,2.9707043170928955,101.6325454711914,80.4234848022461,40.84097671508789,124.98631286621094,71.28252410888672,-7.357874393463135,84.07125091552734,41.17580032348633,109.6846694946289,83.92640686035156,33.74977111816406,72.4697265625,-136.6122283935547,111.28910064697266,33.51791000366211,118.31620025634766,37.820430755615234,81.21404266357422,57.223148345947266,0.05702373385429382,12.833168029785156,74.96045684814453,52.70817947387695,-42.961219787597656,73.68942260742188,47.78145217895508,18.21999168395996,29.26896095275879,56.615936279296875,-34.820068359375,73.21092224121094,43.32501220703125,58.201942443847656,74.12516784667969,-23.204133987426758],\"y\":[-35.299922943115234,75.16768646240234,4.007342338562012,-156.8961181640625,-35.379608154296875,33.9079475402832,91.05642700195312,44.02778625488281,71.5749282836914,-13.80040454864502,41.0745735168457,138.26113891601562,59.575870513916016,61.18844223022461,74.35321044921875,36.82984161376953,11.88880729675293,34.808815002441406,25.616914749145508,-6.578274726867676,-78.85957336425781,98.36542510986328,-5.395037651062012,131.28463745117188,108.71712493896484,39.546329498291016,114.87840270996094,73.7442626953125,110.36164855957031,98.10140991210938,-148.5664520263672,-130.78367614746094,-29.105863571166992,93.8099594116211,67.90690612792969,110.13233184814453,17.48550796508789,-61.597923278808594,20.878562927246094,28.8179874420166,49.66666793823242,-94.29147338867188,37.217735290527344,-120.41133117675781,160.6294403076172,144.2047576904297,153.80435180664062],\"z\":[-123.99700164794922,-146.46348571777344,-154.1355743408203,36.823524475097656,-68.34893798828125,-100.45941162109375,-112.8709945678711,-123.0809555053711,-62.78447341918945,-112.65450286865234,90.04872131347656,-62.68361282348633,-0.49824151396751404,-102.45201110839844,-107.38875579833984,35.32863235473633,-110.7699203491211,147.95993041992188,-70.20143127441406,-71.90373992919922,-95.07534790039062,47.556610107421875,-124.96675109863281,73.77899932861328,-32.301734924316406,-127.98188018798828,-82.97276306152344,-58.35102844238281,-29.08881378173828,-120.18108367919922,67.9018325805664,129.7814483642578,-155.41015625,88.59703826904297,-9.365784645080566,-138.99285888671875,-154.95989990234375,-104.39937591552734,-163.7616424560547,-43.25211715698242,-138.04029846191406,-125.03404998779297,-32.49095153808594,8.294732093811035,-62.47776794433594,4.047488212585449,-110.04359436035156],\"type\":\"scatter3d\"},{\"customdata\":[[\"New Zealand\"],[\"Netherlands\"],[\"Canada\"],[\"Iceland\"],[\"United Kingdom\"],[\"United States\"],[\"Belgium\"],[\"Austria\"],[\"Australia\"],[\"United Arab Emirates\"],[\"Brunei\"],[\"Switzerland\"],[\"Sweden\"],[\"Qatar\"],[\"Portugal\"],[\"Ireland\"],[\"Greece\"],[\"Israel\"],[\"Germany\"],[\"Italy\"],[\"Norway\"],[\"Japan\"],[\"France\"],[\"Finland\"],[\"Spain\"],[\"Denmark\"],[\"Cyprus\"],[\"Kuwait\"],[\"Slovenia\"]],\"hovertemplate\":\"Cluster=Cluster 2<br>0=%{x}<br>1=%{y}<br>2=%{z}<br>Feature=%{customdata[0]}<extra></extra>\",\"legendgroup\":\"Cluster 2\",\"marker\":{\"color\":\"#00cc96\",\"opacity\":0.7,\"symbol\":\"circle\"},\"mode\":\"markers\",\"name\":\"Cluster 2\",\"scene\":\"scene\",\"showlegend\":true,\"x\":[-75.19296264648438,-55.86650466918945,-51.06883239746094,-82.50234985351562,-46.976871490478516,-97.3331527709961,-32.71120834350586,-77.12232208251953,-118.00440979003906,63.69672775268555,9.730083465576172,-102.7138442993164,-105.16102600097656,-134.94956970214844,-23.714536666870117,-132.4064483642578,-59.32988357543945,-52.98405075073242,-88.76360321044922,169.85568237304688,-125.73346710205078,-116.51194763183594,-21.30614471435547,-76.14911651611328,-88.58882141113281,-55.28530502319336,-68.70450592041016,105.2574234008789,-94.03814697265625],\"y\":[-132.21730041503906,-23.548168182373047,-69.14061737060547,-23.401947021484375,-102.41634368896484,-148.80184936523438,-57.46467971801758,-60.809776306152344,-104.81682586669922,5.033268928527832,-160.77784729003906,-18.139928817749023,-57.69120788574219,-79.548583984375,-109.4562759399414,-16.03606414794922,-126.70046997070312,23.02281379699707,-76.18891143798828,65.68421173095703,-57.5640869140625,-118.92013549804688,-48.45673370361328,-96.072998046875,-98.13027954101562,-54.89966583251953,-17.149364471435547,5.874361515045166,-49.63252258300781],\"z\":[75.1892318725586,131.96664428710938,52.265708923339844,89.84039306640625,77.95899963378906,4.292627334594727,136.35397338867188,131.7217559814453,96.16633605957031,135.08912658691406,-29.41295051574707,134.21922302246094,98.93077850341797,-49.73935317993164,35.858463287353516,69.63078308105469,35.96887969970703,105.58299255371094,66.7696304321289,-8.517794609069824,141.1785125732422,54.81621551513672,-103.728515625,108.06375122070312,27.973466873168945,94.79737091064453,45.35630416870117,132.59402465820312,-80.41967010498047],\"type\":\"scatter3d\"},{\"customdata\":[[\"Singapore\"],[\"Luxembourg\"],[\"Malta\"]],\"hovertemplate\":\"Cluster=Cluster 3<br>0=%{x}<br>1=%{y}<br>2=%{z}<br>Feature=%{customdata[0]}<extra></extra>\",\"legendgroup\":\"Cluster 3\",\"marker\":{\"color\":\"#ab63fa\",\"opacity\":0.7,\"symbol\":\"circle\"},\"mode\":\"markers\",\"name\":\"Cluster 3\",\"scene\":\"scene\",\"showlegend\":true,\"x\":[-167.52455139160156,-167.88070678710938,-155.92001342773438],\"y\":[-63.66191101074219,-49.62430191040039,-37.43134689331055],\"z\":[35.17123794555664,67.35417938232422,11.788299560546875],\"type\":\"scatter3d\"}],                        {\"template\":{\"data\":{\"bar\":[{\"error_x\":{\"color\":\"#2a3f5f\"},\"error_y\":{\"color\":\"#2a3f5f\"},\"marker\":{\"line\":{\"color\":\"#E5ECF6\",\"width\":0.5},\"pattern\":{\"fillmode\":\"overlay\",\"size\":10,\"solidity\":0.2}},\"type\":\"bar\"}],\"barpolar\":[{\"marker\":{\"line\":{\"color\":\"#E5ECF6\",\"width\":0.5},\"pattern\":{\"fillmode\":\"overlay\",\"size\":10,\"solidity\":0.2}},\"type\":\"barpolar\"}],\"carpet\":[{\"aaxis\":{\"endlinecolor\":\"#2a3f5f\",\"gridcolor\":\"white\",\"linecolor\":\"white\",\"minorgridcolor\":\"white\",\"startlinecolor\":\"#2a3f5f\"},\"baxis\":{\"endlinecolor\":\"#2a3f5f\",\"gridcolor\":\"white\",\"linecolor\":\"white\",\"minorgridcolor\":\"white\",\"startlinecolor\":\"#2a3f5f\"},\"type\":\"carpet\"}],\"choropleth\":[{\"colorbar\":{\"outlinewidth\":0,\"ticks\":\"\"},\"type\":\"choropleth\"}],\"contour\":[{\"colorbar\":{\"outlinewidth\":0,\"ticks\":\"\"},\"colorscale\":[[0.0,\"#0d0887\"],[0.1111111111111111,\"#46039f\"],[0.2222222222222222,\"#7201a8\"],[0.3333333333333333,\"#9c179e\"],[0.4444444444444444,\"#bd3786\"],[0.5555555555555556,\"#d8576b\"],[0.6666666666666666,\"#ed7953\"],[0.7777777777777778,\"#fb9f3a\"],[0.8888888888888888,\"#fdca26\"],[1.0,\"#f0f921\"]],\"type\":\"contour\"}],\"contourcarpet\":[{\"colorbar\":{\"outlinewidth\":0,\"ticks\":\"\"},\"type\":\"contourcarpet\"}],\"heatmap\":[{\"colorbar\":{\"outlinewidth\":0,\"ticks\":\"\"},\"colorscale\":[[0.0,\"#0d0887\"],[0.1111111111111111,\"#46039f\"],[0.2222222222222222,\"#7201a8\"],[0.3333333333333333,\"#9c179e\"],[0.4444444444444444,\"#bd3786\"],[0.5555555555555556,\"#d8576b\"],[0.6666666666666666,\"#ed7953\"],[0.7777777777777778,\"#fb9f3a\"],[0.8888888888888888,\"#fdca26\"],[1.0,\"#f0f921\"]],\"type\":\"heatmap\"}],\"heatmapgl\":[{\"colorbar\":{\"outlinewidth\":0,\"ticks\":\"\"},\"colorscale\":[[0.0,\"#0d0887\"],[0.1111111111111111,\"#46039f\"],[0.2222222222222222,\"#7201a8\"],[0.3333333333333333,\"#9c179e\"],[0.4444444444444444,\"#bd3786\"],[0.5555555555555556,\"#d8576b\"],[0.6666666666666666,\"#ed7953\"],[0.7777777777777778,\"#fb9f3a\"],[0.8888888888888888,\"#fdca26\"],[1.0,\"#f0f921\"]],\"type\":\"heatmapgl\"}],\"histogram\":[{\"marker\":{\"pattern\":{\"fillmode\":\"overlay\",\"size\":10,\"solidity\":0.2}},\"type\":\"histogram\"}],\"histogram2d\":[{\"colorbar\":{\"outlinewidth\":0,\"ticks\":\"\"},\"colorscale\":[[0.0,\"#0d0887\"],[0.1111111111111111,\"#46039f\"],[0.2222222222222222,\"#7201a8\"],[0.3333333333333333,\"#9c179e\"],[0.4444444444444444,\"#bd3786\"],[0.5555555555555556,\"#d8576b\"],[0.6666666666666666,\"#ed7953\"],[0.7777777777777778,\"#fb9f3a\"],[0.8888888888888888,\"#fdca26\"],[1.0,\"#f0f921\"]],\"type\":\"histogram2d\"}],\"histogram2dcontour\":[{\"colorbar\":{\"outlinewidth\":0,\"ticks\":\"\"},\"colorscale\":[[0.0,\"#0d0887\"],[0.1111111111111111,\"#46039f\"],[0.2222222222222222,\"#7201a8\"],[0.3333333333333333,\"#9c179e\"],[0.4444444444444444,\"#bd3786\"],[0.5555555555555556,\"#d8576b\"],[0.6666666666666666,\"#ed7953\"],[0.7777777777777778,\"#fb9f3a\"],[0.8888888888888888,\"#fdca26\"],[1.0,\"#f0f921\"]],\"type\":\"histogram2dcontour\"}],\"mesh3d\":[{\"colorbar\":{\"outlinewidth\":0,\"ticks\":\"\"},\"type\":\"mesh3d\"}],\"parcoords\":[{\"line\":{\"colorbar\":{\"outlinewidth\":0,\"ticks\":\"\"}},\"type\":\"parcoords\"}],\"pie\":[{\"automargin\":true,\"type\":\"pie\"}],\"scatter\":[{\"marker\":{\"colorbar\":{\"outlinewidth\":0,\"ticks\":\"\"}},\"type\":\"scatter\"}],\"scatter3d\":[{\"line\":{\"colorbar\":{\"outlinewidth\":0,\"ticks\":\"\"}},\"marker\":{\"colorbar\":{\"outlinewidth\":0,\"ticks\":\"\"}},\"type\":\"scatter3d\"}],\"scattercarpet\":[{\"marker\":{\"colorbar\":{\"outlinewidth\":0,\"ticks\":\"\"}},\"type\":\"scattercarpet\"}],\"scattergeo\":[{\"marker\":{\"colorbar\":{\"outlinewidth\":0,\"ticks\":\"\"}},\"type\":\"scattergeo\"}],\"scattergl\":[{\"marker\":{\"colorbar\":{\"outlinewidth\":0,\"ticks\":\"\"}},\"type\":\"scattergl\"}],\"scattermapbox\":[{\"marker\":{\"colorbar\":{\"outlinewidth\":0,\"ticks\":\"\"}},\"type\":\"scattermapbox\"}],\"scatterpolar\":[{\"marker\":{\"colorbar\":{\"outlinewidth\":0,\"ticks\":\"\"}},\"type\":\"scatterpolar\"}],\"scatterpolargl\":[{\"marker\":{\"colorbar\":{\"outlinewidth\":0,\"ticks\":\"\"}},\"type\":\"scatterpolargl\"}],\"scatterternary\":[{\"marker\":{\"colorbar\":{\"outlinewidth\":0,\"ticks\":\"\"}},\"type\":\"scatterternary\"}],\"surface\":[{\"colorbar\":{\"outlinewidth\":0,\"ticks\":\"\"},\"colorscale\":[[0.0,\"#0d0887\"],[0.1111111111111111,\"#46039f\"],[0.2222222222222222,\"#7201a8\"],[0.3333333333333333,\"#9c179e\"],[0.4444444444444444,\"#bd3786\"],[0.5555555555555556,\"#d8576b\"],[0.6666666666666666,\"#ed7953\"],[0.7777777777777778,\"#fb9f3a\"],[0.8888888888888888,\"#fdca26\"],[1.0,\"#f0f921\"]],\"type\":\"surface\"}],\"table\":[{\"cells\":{\"fill\":{\"color\":\"#EBF0F8\"},\"line\":{\"color\":\"white\"}},\"header\":{\"fill\":{\"color\":\"#C8D4E3\"},\"line\":{\"color\":\"white\"}},\"type\":\"table\"}]},\"layout\":{\"annotationdefaults\":{\"arrowcolor\":\"#2a3f5f\",\"arrowhead\":0,\"arrowwidth\":1},\"autotypenumbers\":\"strict\",\"coloraxis\":{\"colorbar\":{\"outlinewidth\":0,\"ticks\":\"\"}},\"colorscale\":{\"diverging\":[[0,\"#8e0152\"],[0.1,\"#c51b7d\"],[0.2,\"#de77ae\"],[0.3,\"#f1b6da\"],[0.4,\"#fde0ef\"],[0.5,\"#f7f7f7\"],[0.6,\"#e6f5d0\"],[0.7,\"#b8e186\"],[0.8,\"#7fbc41\"],[0.9,\"#4d9221\"],[1,\"#276419\"]],\"sequential\":[[0.0,\"#0d0887\"],[0.1111111111111111,\"#46039f\"],[0.2222222222222222,\"#7201a8\"],[0.3333333333333333,\"#9c179e\"],[0.4444444444444444,\"#bd3786\"],[0.5555555555555556,\"#d8576b\"],[0.6666666666666666,\"#ed7953\"],[0.7777777777777778,\"#fb9f3a\"],[0.8888888888888888,\"#fdca26\"],[1.0,\"#f0f921\"]],\"sequentialminus\":[[0.0,\"#0d0887\"],[0.1111111111111111,\"#46039f\"],[0.2222222222222222,\"#7201a8\"],[0.3333333333333333,\"#9c179e\"],[0.4444444444444444,\"#bd3786\"],[0.5555555555555556,\"#d8576b\"],[0.6666666666666666,\"#ed7953\"],[0.7777777777777778,\"#fb9f3a\"],[0.8888888888888888,\"#fdca26\"],[1.0,\"#f0f921\"]]},\"colorway\":[\"#636efa\",\"#EF553B\",\"#00cc96\",\"#ab63fa\",\"#FFA15A\",\"#19d3f3\",\"#FF6692\",\"#B6E880\",\"#FF97FF\",\"#FECB52\"],\"font\":{\"color\":\"#2a3f5f\"},\"geo\":{\"bgcolor\":\"white\",\"lakecolor\":\"white\",\"landcolor\":\"#E5ECF6\",\"showlakes\":true,\"showland\":true,\"subunitcolor\":\"white\"},\"hoverlabel\":{\"align\":\"left\"},\"hovermode\":\"closest\",\"mapbox\":{\"style\":\"light\"},\"paper_bgcolor\":\"white\",\"plot_bgcolor\":\"#E5ECF6\",\"polar\":{\"angularaxis\":{\"gridcolor\":\"white\",\"linecolor\":\"white\",\"ticks\":\"\"},\"bgcolor\":\"#E5ECF6\",\"radialaxis\":{\"gridcolor\":\"white\",\"linecolor\":\"white\",\"ticks\":\"\"}},\"scene\":{\"xaxis\":{\"backgroundcolor\":\"#E5ECF6\",\"gridcolor\":\"white\",\"gridwidth\":2,\"linecolor\":\"white\",\"showbackground\":true,\"ticks\":\"\",\"zerolinecolor\":\"white\"},\"yaxis\":{\"backgroundcolor\":\"#E5ECF6\",\"gridcolor\":\"white\",\"gridwidth\":2,\"linecolor\":\"white\",\"showbackground\":true,\"ticks\":\"\",\"zerolinecolor\":\"white\"},\"zaxis\":{\"backgroundcolor\":\"#E5ECF6\",\"gridcolor\":\"white\",\"gridwidth\":2,\"linecolor\":\"white\",\"showbackground\":true,\"ticks\":\"\",\"zerolinecolor\":\"white\"}},\"shapedefaults\":{\"line\":{\"color\":\"#2a3f5f\"}},\"ternary\":{\"aaxis\":{\"gridcolor\":\"white\",\"linecolor\":\"white\",\"ticks\":\"\"},\"baxis\":{\"gridcolor\":\"white\",\"linecolor\":\"white\",\"ticks\":\"\"},\"bgcolor\":\"#E5ECF6\",\"caxis\":{\"gridcolor\":\"white\",\"linecolor\":\"white\",\"ticks\":\"\"}},\"title\":{\"x\":0.05},\"xaxis\":{\"automargin\":true,\"gridcolor\":\"white\",\"linecolor\":\"white\",\"ticks\":\"\",\"title\":{\"standoff\":15},\"zerolinecolor\":\"white\",\"zerolinewidth\":2},\"yaxis\":{\"automargin\":true,\"gridcolor\":\"white\",\"linecolor\":\"white\",\"ticks\":\"\",\"title\":{\"standoff\":15},\"zerolinecolor\":\"white\",\"zerolinewidth\":2}}},\"scene\":{\"domain\":{\"x\":[0.0,1.0],\"y\":[0.0,1.0]},\"xaxis\":{\"title\":{\"text\":\"0\"}},\"yaxis\":{\"title\":{\"text\":\"1\"}},\"zaxis\":{\"title\":{\"text\":\"2\"}}},\"legend\":{\"title\":{\"text\":\"Cluster\"},\"tracegroupgap\":0},\"title\":{\"text\":\"3d TSNE Plot for Clusters\"},\"height\":800,\"width\":900},                        {\"responsive\": true}                    ).then(function(){\n",
       "                            \n",
       "var gd = document.getElementById('1bdd71f0-9246-4e5b-8f5d-7fec6b3ea931');\n",
       "var x = new MutationObserver(function (mutations, observer) {{\n",
       "        var display = window.getComputedStyle(gd).display;\n",
       "        if (!display || display === 'none') {{\n",
       "            console.log([gd, 'removed!']);\n",
       "            Plotly.purge(gd);\n",
       "            observer.disconnect();\n",
       "        }}\n",
       "}});\n",
       "\n",
       "// Listen for the removal of the full notebook cells\n",
       "var notebookContainer = gd.closest('#notebook-container');\n",
       "if (notebookContainer) {{\n",
       "    x.observe(notebookContainer, {childList: true});\n",
       "}}\n",
       "\n",
       "// Listen for the clearing of the current output cell\n",
       "var outputEl = gd.closest('.output');\n",
       "if (outputEl) {{\n",
       "    x.observe(outputEl, {childList: true});\n",
       "}}\n",
       "\n",
       "                        })                };                });            </script>        </div>"
      ]
     },
     "metadata": {},
     "output_type": "display_data"
    }
   ],
   "source": [
    "plot_model(kmeans, plot = 'tsne')"
   ]
  },
  {
   "cell_type": "code",
   "execution_count": 13,
   "id": "6afc3f46",
   "metadata": {},
   "outputs": [
    {
     "data": {
      "image/png": "[encoded data removed]",
      "text/plain": [
       "<Figure size 576x396 with 1 Axes>"
      ]
     },
     "metadata": {},
     "output_type": "display_data"
    }
   ],
   "source": [
    "plot_model(kmeans, plot = 'elbow')"
   ]
  },
  {
   "cell_type": "code",
   "execution_count": 14,
   "id": "9b18c852",
   "metadata": {},
   "outputs": [
    {
     "data": {
      "image/png": "[encoded data removed]",
      "text/plain": [
       "<Figure size 576x396 with 1 Axes>"
      ]
     },
     "metadata": {},
     "output_type": "display_data"
    }
   ],
   "source": [
    "plot_model(kmeans, plot = 'silhouette')"
   ]
  },
  {
   "cell_type": "code",
   "execution_count": 15,
   "id": "92d32157",
   "metadata": {},
   "outputs": [
    {
     "data": {
      "text/html": [
       "<div>\n",
       "<style scoped>\n",
       "    .dataframe tbody tr th:only-of-type {\n",
       "        vertical-align: middle;\n",
       "    }\n",
       "\n",
       "    .dataframe tbody tr th {\n",
       "        vertical-align: top;\n",
       "    }\n",
       "\n",
       "    .dataframe thead th {\n",
       "        text-align: right;\n",
       "    }\n",
       "</style>\n",
       "<table border=\"1\" class=\"dataframe\">\n",
       "  <thead>\n",
       "    <tr style=\"text-align: right;\">\n",
       "      <th></th>\n",
       "      <th>country</th>\n",
       "      <th>child_mort</th>\n",
       "      <th>exports</th>\n",
       "      <th>health</th>\n",
       "      <th>imports</th>\n",
       "      <th>income</th>\n",
       "      <th>inflation</th>\n",
       "      <th>life_expec</th>\n",
       "      <th>total_fer</th>\n",
       "      <th>gdpp</th>\n",
       "      <th>Cluster</th>\n",
       "    </tr>\n",
       "  </thead>\n",
       "  <tbody>\n",
       "    <tr>\n",
       "      <th>23</th>\n",
       "      <td>Brunei</td>\n",
       "      <td>10.5</td>\n",
       "      <td>67.4</td>\n",
       "      <td>2.84</td>\n",
       "      <td>28.0</td>\n",
       "      <td>80600</td>\n",
       "      <td>16.70</td>\n",
       "      <td>77.1</td>\n",
       "      <td>1.84</td>\n",
       "      <td>35300</td>\n",
       "      <td>Cluster 2</td>\n",
       "    </tr>\n",
       "    <tr>\n",
       "      <th>19</th>\n",
       "      <td>Bolivia</td>\n",
       "      <td>46.6</td>\n",
       "      <td>41.2</td>\n",
       "      <td>4.84</td>\n",
       "      <td>34.3</td>\n",
       "      <td>5410</td>\n",
       "      <td>8.78</td>\n",
       "      <td>71.6</td>\n",
       "      <td>3.20</td>\n",
       "      <td>1980</td>\n",
       "      <td>Cluster 0</td>\n",
       "    </tr>\n",
       "    <tr>\n",
       "      <th>87</th>\n",
       "      <td>Lesotho</td>\n",
       "      <td>99.7</td>\n",
       "      <td>39.4</td>\n",
       "      <td>11.10</td>\n",
       "      <td>101.0</td>\n",
       "      <td>2380</td>\n",
       "      <td>4.15</td>\n",
       "      <td>46.5</td>\n",
       "      <td>3.30</td>\n",
       "      <td>1170</td>\n",
       "      <td>Cluster 1</td>\n",
       "    </tr>\n",
       "    <tr>\n",
       "      <th>37</th>\n",
       "      <td>Congo, Dem. Rep.</td>\n",
       "      <td>116.0</td>\n",
       "      <td>41.1</td>\n",
       "      <td>7.91</td>\n",
       "      <td>49.6</td>\n",
       "      <td>609</td>\n",
       "      <td>20.80</td>\n",
       "      <td>57.5</td>\n",
       "      <td>6.54</td>\n",
       "      <td>334</td>\n",
       "      <td>Cluster 1</td>\n",
       "    </tr>\n",
       "    <tr>\n",
       "      <th>116</th>\n",
       "      <td>Pakistan</td>\n",
       "      <td>92.1</td>\n",
       "      <td>13.5</td>\n",
       "      <td>2.20</td>\n",
       "      <td>19.4</td>\n",
       "      <td>4280</td>\n",
       "      <td>10.90</td>\n",
       "      <td>65.3</td>\n",
       "      <td>3.85</td>\n",
       "      <td>1040</td>\n",
       "      <td>Cluster 1</td>\n",
       "    </tr>\n",
       "  </tbody>\n",
       "</table>\n",
       "</div>"
      ],
      "text/plain": [
       "              country  child_mort  exports  health  imports  income  \\\n",
       "23             Brunei        10.5     67.4    2.84     28.0   80600   \n",
       "19            Bolivia        46.6     41.2    4.84     34.3    5410   \n",
       "87            Lesotho        99.7     39.4   11.10    101.0    2380   \n",
       "37   Congo, Dem. Rep.       116.0     41.1    7.91     49.6     609   \n",
       "116          Pakistan        92.1     13.5    2.20     19.4    4280   \n",
       "\n",
       "     inflation  life_expec  total_fer   gdpp    Cluster  \n",
       "23       16.70        77.1       1.84  35300  Cluster 2  \n",
       "19        8.78        71.6       3.20   1980  Cluster 0  \n",
       "87        4.15        46.5       3.30   1170  Cluster 1  \n",
       "37       20.80        57.5       6.54    334  Cluster 1  \n",
       "116      10.90        65.3       3.85   1040  Cluster 1  "
      ]
     },
     "execution_count": 15,
     "metadata": {},
     "output_type": "execute_result"
    }
   ],
   "source": [
    "result = assign_model(kmeans)\n",
    "result.sample(5)"
   ]
  },
  {
   "cell_type": "code",
   "execution_count": 16,
   "id": "9d2c8d6b",
   "metadata": {},
   "outputs": [
    {
     "data": {
      "text/html": [
       "<div>\n",
       "<style scoped>\n",
       "    .dataframe tbody tr th:only-of-type {\n",
       "        vertical-align: middle;\n",
       "    }\n",
       "\n",
       "    .dataframe tbody tr th {\n",
       "        vertical-align: top;\n",
       "    }\n",
       "\n",
       "    .dataframe thead th {\n",
       "        text-align: right;\n",
       "    }\n",
       "</style>\n",
       "<table border=\"1\" class=\"dataframe\">\n",
       "  <thead>\n",
       "    <tr style=\"text-align: right;\">\n",
       "      <th></th>\n",
       "      <th>country</th>\n",
       "      <th>child_mort</th>\n",
       "      <th>exports</th>\n",
       "      <th>health</th>\n",
       "      <th>imports</th>\n",
       "      <th>income</th>\n",
       "      <th>inflation</th>\n",
       "      <th>life_expec</th>\n",
       "      <th>total_fer</th>\n",
       "      <th>gdpp</th>\n",
       "      <th>Cluster</th>\n",
       "    </tr>\n",
       "  </thead>\n",
       "  <tbody>\n",
       "    <tr>\n",
       "      <th>19</th>\n",
       "      <td>Bolivia</td>\n",
       "      <td>46.6</td>\n",
       "      <td>41.2</td>\n",
       "      <td>4.84</td>\n",
       "      <td>34.3</td>\n",
       "      <td>5410</td>\n",
       "      <td>8.780</td>\n",
       "      <td>71.6</td>\n",
       "      <td>3.20</td>\n",
       "      <td>1980</td>\n",
       "      <td>Cluster 0</td>\n",
       "    </tr>\n",
       "    <tr>\n",
       "      <th>163</th>\n",
       "      <td>Venezuela</td>\n",
       "      <td>17.1</td>\n",
       "      <td>28.5</td>\n",
       "      <td>4.91</td>\n",
       "      <td>17.6</td>\n",
       "      <td>16500</td>\n",
       "      <td>45.900</td>\n",
       "      <td>75.4</td>\n",
       "      <td>2.47</td>\n",
       "      <td>13500</td>\n",
       "      <td>Cluster 0</td>\n",
       "    </tr>\n",
       "    <tr>\n",
       "      <th>31</th>\n",
       "      <td>Central African Republic</td>\n",
       "      <td>149.0</td>\n",
       "      <td>11.8</td>\n",
       "      <td>3.98</td>\n",
       "      <td>26.5</td>\n",
       "      <td>888</td>\n",
       "      <td>2.010</td>\n",
       "      <td>47.5</td>\n",
       "      <td>5.21</td>\n",
       "      <td>446</td>\n",
       "      <td>Cluster 1</td>\n",
       "    </tr>\n",
       "    <tr>\n",
       "      <th>105</th>\n",
       "      <td>Morocco</td>\n",
       "      <td>33.5</td>\n",
       "      <td>32.2</td>\n",
       "      <td>5.20</td>\n",
       "      <td>43.0</td>\n",
       "      <td>6440</td>\n",
       "      <td>0.976</td>\n",
       "      <td>73.5</td>\n",
       "      <td>2.58</td>\n",
       "      <td>2830</td>\n",
       "      <td>Cluster 0</td>\n",
       "    </tr>\n",
       "    <tr>\n",
       "      <th>30</th>\n",
       "      <td>Cape Verde</td>\n",
       "      <td>26.5</td>\n",
       "      <td>32.7</td>\n",
       "      <td>4.09</td>\n",
       "      <td>61.8</td>\n",
       "      <td>5830</td>\n",
       "      <td>0.505</td>\n",
       "      <td>72.5</td>\n",
       "      <td>2.67</td>\n",
       "      <td>3310</td>\n",
       "      <td>Cluster 0</td>\n",
       "    </tr>\n",
       "    <tr>\n",
       "      <th>11</th>\n",
       "      <td>Bahrain</td>\n",
       "      <td>8.6</td>\n",
       "      <td>69.5</td>\n",
       "      <td>4.97</td>\n",
       "      <td>50.9</td>\n",
       "      <td>41100</td>\n",
       "      <td>7.440</td>\n",
       "      <td>76.0</td>\n",
       "      <td>2.16</td>\n",
       "      <td>20700</td>\n",
       "      <td>Cluster 0</td>\n",
       "    </tr>\n",
       "    <tr>\n",
       "      <th>140</th>\n",
       "      <td>Sri Lanka</td>\n",
       "      <td>11.2</td>\n",
       "      <td>19.6</td>\n",
       "      <td>2.94</td>\n",
       "      <td>26.8</td>\n",
       "      <td>8560</td>\n",
       "      <td>22.800</td>\n",
       "      <td>74.4</td>\n",
       "      <td>2.20</td>\n",
       "      <td>2810</td>\n",
       "      <td>Cluster 0</td>\n",
       "    </tr>\n",
       "    <tr>\n",
       "      <th>13</th>\n",
       "      <td>Barbados</td>\n",
       "      <td>14.2</td>\n",
       "      <td>39.5</td>\n",
       "      <td>7.97</td>\n",
       "      <td>48.7</td>\n",
       "      <td>15300</td>\n",
       "      <td>0.321</td>\n",
       "      <td>76.7</td>\n",
       "      <td>1.78</td>\n",
       "      <td>16000</td>\n",
       "      <td>Cluster 0</td>\n",
       "    </tr>\n",
       "    <tr>\n",
       "      <th>158</th>\n",
       "      <td>United Kingdom</td>\n",
       "      <td>5.2</td>\n",
       "      <td>28.2</td>\n",
       "      <td>9.64</td>\n",
       "      <td>30.8</td>\n",
       "      <td>36200</td>\n",
       "      <td>1.570</td>\n",
       "      <td>80.3</td>\n",
       "      <td>1.92</td>\n",
       "      <td>38900</td>\n",
       "      <td>Cluster 2</td>\n",
       "    </tr>\n",
       "    <tr>\n",
       "      <th>112</th>\n",
       "      <td>Niger</td>\n",
       "      <td>123.0</td>\n",
       "      <td>22.2</td>\n",
       "      <td>5.16</td>\n",
       "      <td>49.1</td>\n",
       "      <td>814</td>\n",
       "      <td>2.550</td>\n",
       "      <td>58.8</td>\n",
       "      <td>7.49</td>\n",
       "      <td>348</td>\n",
       "      <td>Cluster 1</td>\n",
       "    </tr>\n",
       "  </tbody>\n",
       "</table>\n",
       "</div>"
      ],
      "text/plain": [
       "                      country  child_mort  exports  health  imports  income  \\\n",
       "19                    Bolivia        46.6     41.2    4.84     34.3    5410   \n",
       "163                 Venezuela        17.1     28.5    4.91     17.6   16500   \n",
       "31   Central African Republic       149.0     11.8    3.98     26.5     888   \n",
       "105                   Morocco        33.5     32.2    5.20     43.0    6440   \n",
       "30                 Cape Verde        26.5     32.7    4.09     61.8    5830   \n",
       "11                    Bahrain         8.6     69.5    4.97     50.9   41100   \n",
       "140                 Sri Lanka        11.2     19.6    2.94     26.8    8560   \n",
       "13                   Barbados        14.2     39.5    7.97     48.7   15300   \n",
       "158            United Kingdom         5.2     28.2    9.64     30.8   36200   \n",
       "112                     Niger       123.0     22.2    5.16     49.1     814   \n",
       "\n",
       "     inflation  life_expec  total_fer   gdpp    Cluster  \n",
       "19       8.780        71.6       3.20   1980  Cluster 0  \n",
       "163     45.900        75.4       2.47  13500  Cluster 0  \n",
       "31       2.010        47.5       5.21    446  Cluster 1  \n",
       "105      0.976        73.5       2.58   2830  Cluster 0  \n",
       "30       0.505        72.5       2.67   3310  Cluster 0  \n",
       "11       7.440        76.0       2.16  20700  Cluster 0  \n",
       "140     22.800        74.4       2.20   2810  Cluster 0  \n",
       "13       0.321        76.7       1.78  16000  Cluster 0  \n",
       "158      1.570        80.3       1.92  38900  Cluster 2  \n",
       "112      2.550        58.8       7.49    348  Cluster 1  "
      ]
     },
     "execution_count": 16,
     "metadata": {},
     "output_type": "execute_result"
    }
   ],
   "source": [
    "predictions = predict_model(kmeans, data = df)\n",
    "predictions.sample(10)"
   ]
  },
  {
   "cell_type": "code",
   "execution_count": 1,
   "id": "b71d5c35",
   "metadata": {},
   "outputs": [],
   "source": [
    "###Saving Model"
   ]
  },
  {
   "cell_type": "code",
   "execution_count": 17,
   "id": "24645a7b",
   "metadata": {},
   "outputs": [
    {
     "name": "stdout",
     "output_type": "stream",
     "text": [
      "Transformation Pipeline and Model Successfully Saved\n"
     ]
    },
    {
     "data": {
      "text/plain": [
       "(Pipeline(memory=None,\n",
       "          steps=[('dtypes',\n",
       "                  DataTypes_Auto_infer(categorical_features=[],\n",
       "                                       display_types=True, features_todrop=[],\n",
       "                                       id_columns=[], ml_usecase='regression',\n",
       "                                       numerical_features=[],\n",
       "                                       target='UNSUPERVISED_DUMMY_TARGET',\n",
       "                                       time_features=[])),\n",
       "                 ('imputer',\n",
       "                  Simple_Imputer(categorical_strategy='most frequent',\n",
       "                                 fill_value_categorical=None,\n",
       "                                 fill_value_numerical=None...\n",
       "                 ('fix_perfect', 'passthrough'),\n",
       "                 ('clean_names', Clean_Colum_Names()),\n",
       "                 ('feature_select', 'passthrough'), ('fix_multi', 'passthrough'),\n",
       "                 ('dfs', 'passthrough'), ('pca', 'passthrough'),\n",
       "                 ['trained_model',\n",
       "                  KMeans(algorithm='auto', copy_x=True, init='k-means++',\n",
       "                         max_iter=300, n_clusters=4, n_init=10, n_jobs=-1,\n",
       "                         precompute_distances='deprecated', random_state=4945,\n",
       "                         tol=0.0001, verbose=0)]],\n",
       "          verbose=False),\n",
       " 'kmeans_pipeline.pkl')"
      ]
     },
     "execution_count": 17,
     "metadata": {},
     "output_type": "execute_result"
    }
   ],
   "source": [
    "save_model(kmeans, 'kmeans_pipeline')"
   ]
  },
  {
   "cell_type": "code",
   "execution_count": 18,
   "id": "01c39276",
   "metadata": {},
   "outputs": [
    {
     "name": "stdout",
     "output_type": "stream",
     "text": [
      "Transformation Pipeline and Model Successfully Loaded\n",
      "Pipeline(memory=None,\n",
      "         steps=[('dtypes',\n",
      "                 DataTypes_Auto_infer(categorical_features=[],\n",
      "                                      display_types=True, features_todrop=[],\n",
      "                                      id_columns=[], ml_usecase='regression',\n",
      "                                      numerical_features=[],\n",
      "                                      target='UNSUPERVISED_DUMMY_TARGET',\n",
      "                                      time_features=[])),\n",
      "                ('imputer',\n",
      "                 Simple_Imputer(categorical_strategy='most frequent',\n",
      "                                fill_value_categorical=None,\n",
      "                                fill_value_numerical=None...\n",
      "                ('fix_perfect', 'passthrough'),\n",
      "                ('clean_names', Clean_Colum_Names()),\n",
      "                ('feature_select', 'passthrough'), ('fix_multi', 'passthrough'),\n",
      "                ('dfs', 'passthrough'), ('pca', 'passthrough'),\n",
      "                ['trained_model',\n",
      "                 KMeans(algorithm='auto', copy_x=True, init='k-means++',\n",
      "                        max_iter=300, n_clusters=4, n_init=10, n_jobs=-1,\n",
      "                        precompute_distances='deprecated', random_state=4945,\n",
      "                        tol=0.0001, verbose=0)]],\n",
      "         verbose=False)\n"
     ]
    }
   ],
   "source": [
    "loaded_model = load_model('kmeans_pipeline')\n",
    "print(loaded_model)"
   ]
  },
  {
   "cell_type": "code",
   "execution_count": null,
   "id": "c02351bb",
   "metadata": {},
   "outputs": [],
   "source": []
  }
 ],
 "metadata": {
  "kernelspec": {
   "display_name": "Python 3 (ipykernel)",
   "language": "python",
   "name": "python3"
  },
  "language_info": {
   "codemirror_mode": {
    "name": "ipython",
    "version": 3
   },
   "file_extension": ".py",
   "mimetype": "text/x-python",
   "name": "python",
   "nbconvert_exporter": "python",
   "pygments_lexer": "ipython3",
   "version": "3.8.13"
  }
 },
 "nbformat": 4,
 "nbformat_minor": 5
}
